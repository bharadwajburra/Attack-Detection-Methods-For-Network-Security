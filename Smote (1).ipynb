{
  "nbformat": 4,
  "nbformat_minor": 0,
  "metadata": {
    "colab": {
      "name": "Smote.ipynb",
      "provenance": [],
      "collapsed_sections": []
    },
    "kernelspec": {
      "name": "python3",
      "display_name": "Python 3"
    },
    "language_info": {
      "name": "python"
    },
    "accelerator": "GPU"
  },
  "cells": [
    {
      "cell_type": "code",
      "metadata": {
        "colab": {
          "base_uri": "https://localhost:8080/"
        },
        "id": "WrZTopw349gM",
        "outputId": "1af3c005-9b5e-400d-ef37-2820bfc5336f"
      },
      "source": [
        "from time import sleep\n",
        "import string\n",
        "from textblob import TextBlob\n",
        "from nltk.corpus import stopwords\n",
        "from nltk.stem.wordnet import WordNetLemmatizer\n",
        "import nltk\n",
        "import re\n",
        "\n",
        "from glob import glob\n",
        "import numpy as np\n",
        "from tqdm import tqdm\n",
        "from keras.utils import to_categorical\n",
        "from sklearn.feature_extraction.stop_words import ENGLISH_STOP_WORDS\n",
        "from nltk.stem import PorterStemmer\n",
        "from nltk.stem import WordNetLemmatizer\n",
        "from keras.layers import Bidirectional, GlobalMaxPool1D\n",
        "from sklearn.preprocessing import StandardScaler, RobustScaler\n",
        "import os, re, csv, math, codecs\n",
        "\n",
        "from numpy import unique\n",
        "from numpy import hstack\n",
        "from numpy import vstack\n",
        "from numpy import where\n",
        "from matplotlib import pyplot\n",
        "from sklearn.datasets import make_blobs\n",
        "\n",
        "\n",
        "from keras.models import Sequential  \n",
        "from keras.layers.core import Dense, Activation  \n",
        "from keras.layers import LSTM, GRU, SimpleRNN, Bidirectional\n",
        "from keras.layers import *\n",
        "from keras.callbacks import ReduceLROnPlateau, ModelCheckpoint, EarlyStopping\n",
        "import matplotlib.pyplot as plt\n",
        "\n",
        "plt.style.use('ggplot')\n",
        "from sklearn.metrics import *\n",
        "import xgboost as xgb\n",
        "import pickle\n",
        "from sklearn.preprocessing import StandardScaler,MinMaxScaler\n",
        "import pandas as pd  \n",
        "from random import random\n",
        "from keras.utils import to_categorical\n",
        "import numpy as np\n",
        "import os\n",
        "import psutil\n",
        "from sklearn.model_selection import train_test_split\n",
        "from keras.utils import *\n",
        "from imblearn.metrics import sensitivity_specificity_support\n",
        "from sklearn.model_selection import train_test_split\n",
        "from matplotlib import pyplot\n",
        "from tqdm import tqdm\n",
        "import pandas as pd\n",
        "from sklearn import preprocessing\n",
        "import gc\n",
        "gc.collect()\n",
        "from time import sleep\n",
        "\n",
        "import pandas as pd\n",
        "import matplotlib.pyplot as plt\n",
        "from sklearn.preprocessing import LabelEncoder, StandardScaler\n",
        "from sklearn.decomposition import PCA\n",
        "from sklearn.model_selection import train_test_split\n",
        "import warnings\n",
        "\n",
        "import pandas as pd\n",
        "import numpy as np\n",
        "from sklearn.feature_selection import SelectKBest\n",
        "from sklearn.feature_selection import chi2\n",
        "warnings.filterwarnings(\"ignore\")\n",
        "\n"
      ],
      "execution_count": null,
      "outputs": [
        {
          "output_type": "stream",
          "text": [
            "/usr/local/lib/python3.7/dist-packages/sklearn/utils/deprecation.py:144: FutureWarning: The sklearn.feature_extraction.stop_words module is  deprecated in version 0.22 and will be removed in version 0.24. The corresponding classes / functions should instead be imported from sklearn.feature_extraction.text. Anything that cannot be imported from sklearn.feature_extraction.text is now part of the private API.\n",
            "  warnings.warn(message, FutureWarning)\n",
            "/usr/local/lib/python3.7/dist-packages/sklearn/externals/six.py:31: FutureWarning: The module is deprecated in version 0.21 and will be removed in version 0.23 since we've dropped support for Python 2.7. Please rely on the official version of six (https://pypi.org/project/six/).\n",
            "  \"(https://pypi.org/project/six/).\", FutureWarning)\n",
            "/usr/local/lib/python3.7/dist-packages/sklearn/utils/deprecation.py:144: FutureWarning: The sklearn.neighbors.base module is  deprecated in version 0.22 and will be removed in version 0.24. The corresponding classes / functions should instead be imported from sklearn.neighbors. Anything that cannot be imported from sklearn.neighbors is now part of the private API.\n",
            "  warnings.warn(message, FutureWarning)\n",
            "/usr/local/lib/python3.7/dist-packages/sklearn/utils/deprecation.py:144: FutureWarning: The sklearn.metrics.classification module is  deprecated in version 0.22 and will be removed in version 0.24. The corresponding classes / functions should instead be imported from sklearn.metrics. Anything that cannot be imported from sklearn.metrics is now part of the private API.\n",
            "  warnings.warn(message, FutureWarning)\n"
          ],
          "name": "stderr"
        }
      ]
    },
    {
      "cell_type": "code",
      "metadata": {
        "colab": {
          "base_uri": "https://localhost:8080/"
        },
        "id": "v0b6fF2v5IsU",
        "outputId": "6577f5e5-0a7b-4c6b-ac10-120db7abcc95"
      },
      "source": [
        "!gdown --id 1MjEK-6t0-2yMbAqSKAV5sYkbo8G47CxI&export=download"
      ],
      "execution_count": null,
      "outputs": [
        {
          "output_type": "stream",
          "text": [
            "Downloading...\n",
            "From: https://drive.google.com/uc?id=1MjEK-6t0-2yMbAqSKAV5sYkbo8G47CxI\n",
            "To: /content/Friday-23-02-2018_TrafficForML_CICFlowMeter.csv\n",
            "383MB [00:02, 140MB/s]\n"
          ],
          "name": "stdout"
        }
      ]
    },
    {
      "cell_type": "code",
      "metadata": {
        "colab": {
          "base_uri": "https://localhost:8080/"
        },
        "id": "pXrh-pxd5UcF",
        "outputId": "3eaf50cc-20c9-435c-baa7-51da2c08df05"
      },
      "source": [
        "MyList = []\n",
        "for chunk in \tpd.read_csv('Friday-23-02-2018_TrafficForML_CICFlowMeter.csv',delimiter=',', chunksize=10000):\n",
        "  print(len(MyList))\n",
        "  chunk.fillna(chunk.mean())\n",
        "  chunk[chunk==np.inf]=np.nan\n",
        "  chunk.fillna(chunk.mean(), inplace=True)\n",
        "  MyList.append(chunk)\n",
        "df = pd.concat(MyList, axis=0)\n",
        "print(df.shape)"
      ],
      "execution_count": null,
      "outputs": [
        {
          "output_type": "stream",
          "text": [
            "0\n",
            "1\n",
            "2\n",
            "3\n",
            "4\n",
            "5\n",
            "6\n",
            "7\n",
            "8\n",
            "9\n",
            "10\n",
            "11\n",
            "12\n",
            "13\n",
            "14\n",
            "15\n",
            "16\n",
            "17\n",
            "18\n",
            "19\n",
            "20\n",
            "21\n",
            "22\n",
            "23\n",
            "24\n",
            "25\n",
            "26\n",
            "27\n",
            "28\n",
            "29\n",
            "30\n",
            "31\n",
            "32\n",
            "33\n",
            "34\n",
            "35\n",
            "36\n",
            "37\n",
            "38\n",
            "39\n",
            "40\n",
            "41\n",
            "42\n",
            "43\n",
            "44\n",
            "45\n",
            "46\n",
            "47\n",
            "48\n",
            "49\n",
            "50\n",
            "51\n",
            "52\n",
            "53\n",
            "54\n",
            "55\n",
            "56\n",
            "57\n",
            "58\n",
            "59\n",
            "60\n",
            "61\n",
            "62\n",
            "63\n",
            "64\n",
            "65\n",
            "66\n",
            "67\n",
            "68\n",
            "69\n",
            "70\n",
            "71\n",
            "72\n",
            "73\n",
            "74\n",
            "75\n",
            "76\n",
            "77\n",
            "78\n",
            "79\n",
            "80\n",
            "81\n",
            "82\n",
            "83\n",
            "84\n",
            "85\n",
            "86\n",
            "87\n",
            "88\n",
            "89\n",
            "90\n",
            "91\n",
            "92\n",
            "93\n",
            "94\n",
            "95\n",
            "96\n",
            "97\n",
            "98\n",
            "99\n",
            "100\n",
            "101\n",
            "102\n",
            "103\n",
            "104\n",
            "(1048575, 80)\n"
          ],
          "name": "stdout"
        }
      ]
    },
    {
      "cell_type": "code",
      "metadata": {
        "id": "Ixv_Jkx55XnL"
      },
      "source": [
        "df.to_pickle('DataFrame.pkl')   "
      ],
      "execution_count": null,
      "outputs": []
    },
    {
      "cell_type": "code",
      "metadata": {
        "id": "hvttDvrK5gRm"
      },
      "source": [
        "pd.set_option('display.max_columns', None)  \n",
        "pd.set_option('display.max_rows', None)  \n",
        "pd.set_option('display.max_colwidth', -1) \n",
        "\n",
        "df['Label']=df['Label'].replace({'Brute Force -Web': 'BruteForceWeb','Brute Force -XSS':'BruteForceXSS','SQL Injection':'SQLInjection'})"
      ],
      "execution_count": null,
      "outputs": []
    },
    {
      "cell_type": "code",
      "metadata": {
        "id": "OqxaVjCA5tWt"
      },
      "source": [
        "encoder = LabelEncoder()\n",
        "original_df = df['Label'].copy()"
      ],
      "execution_count": null,
      "outputs": []
    },
    {
      "cell_type": "code",
      "metadata": {
        "colab": {
          "base_uri": "https://localhost:8080/"
        },
        "id": "oO9nAcqX5x03",
        "outputId": "663bc27c-0bf4-4d69-cefe-eff3c9981524"
      },
      "source": [
        "for col in df.columns:\n",
        "    print(col)\n",
        "    if col==\"Label\":\n",
        "    \tdf[col] = encoder.fit_transform(df[col])"
      ],
      "execution_count": null,
      "outputs": [
        {
          "output_type": "stream",
          "text": [
            "Dst Port\n",
            "Protocol\n",
            "Timestamp\n",
            "Flow Duration\n",
            "Tot Fwd Pkts\n",
            "Tot Bwd Pkts\n",
            "TotLen Fwd Pkts\n",
            "TotLen Bwd Pkts\n",
            "Fwd Pkt Len Max\n",
            "Fwd Pkt Len Min\n",
            "Fwd Pkt Len Mean\n",
            "Fwd Pkt Len Std\n",
            "Bwd Pkt Len Max\n",
            "Bwd Pkt Len Min\n",
            "Bwd Pkt Len Mean\n",
            "Bwd Pkt Len Std\n",
            "Flow Byts/s\n",
            "Flow Pkts/s\n",
            "Flow IAT Mean\n",
            "Flow IAT Std\n",
            "Flow IAT Max\n",
            "Flow IAT Min\n",
            "Fwd IAT Tot\n",
            "Fwd IAT Mean\n",
            "Fwd IAT Std\n",
            "Fwd IAT Max\n",
            "Fwd IAT Min\n",
            "Bwd IAT Tot\n",
            "Bwd IAT Mean\n",
            "Bwd IAT Std\n",
            "Bwd IAT Max\n",
            "Bwd IAT Min\n",
            "Fwd PSH Flags\n",
            "Bwd PSH Flags\n",
            "Fwd URG Flags\n",
            "Bwd URG Flags\n",
            "Fwd Header Len\n",
            "Bwd Header Len\n",
            "Fwd Pkts/s\n",
            "Bwd Pkts/s\n",
            "Pkt Len Min\n",
            "Pkt Len Max\n",
            "Pkt Len Mean\n",
            "Pkt Len Std\n",
            "Pkt Len Var\n",
            "FIN Flag Cnt\n",
            "SYN Flag Cnt\n",
            "RST Flag Cnt\n",
            "PSH Flag Cnt\n",
            "ACK Flag Cnt\n",
            "URG Flag Cnt\n",
            "CWE Flag Count\n",
            "ECE Flag Cnt\n",
            "Down/Up Ratio\n",
            "Pkt Size Avg\n",
            "Fwd Seg Size Avg\n",
            "Bwd Seg Size Avg\n",
            "Fwd Byts/b Avg\n",
            "Fwd Pkts/b Avg\n",
            "Fwd Blk Rate Avg\n",
            "Bwd Byts/b Avg\n",
            "Bwd Pkts/b Avg\n",
            "Bwd Blk Rate Avg\n",
            "Subflow Fwd Pkts\n",
            "Subflow Fwd Byts\n",
            "Subflow Bwd Pkts\n",
            "Subflow Bwd Byts\n",
            "Init Fwd Win Byts\n",
            "Init Bwd Win Byts\n",
            "Fwd Act Data Pkts\n",
            "Fwd Seg Size Min\n",
            "Active Mean\n",
            "Active Std\n",
            "Active Max\n",
            "Active Min\n",
            "Idle Mean\n",
            "Idle Std\n",
            "Idle Max\n",
            "Idle Min\n",
            "Label\n"
          ],
          "name": "stdout"
        }
      ]
    },
    {
      "cell_type": "code",
      "metadata": {
        "colab": {
          "base_uri": "https://localhost:8080/"
        },
        "id": "fHBnliiK50CY",
        "outputId": "f30f4815-7330-468d-ad4c-15b98fce173e"
      },
      "source": [
        "X_features = df.iloc[:,4:80] #X_features\n",
        "print(\"X_features\",X_features.shape)\n",
        "# Scale the features\n",
        "scaler = StandardScaler()\n",
        "X_features = scaler.fit_transform(X_features)\n",
        "print(\"X_features\",X_features.shape)\n"
      ],
      "execution_count": null,
      "outputs": [
        {
          "output_type": "stream",
          "text": [
            "X_features (1048575, 76)\n",
            "X_features (1048575, 76)\n"
          ],
          "name": "stdout"
        }
      ]
    },
    {
      "cell_type": "code",
      "metadata": {
        "id": "SsHIKe2I52p6"
      },
      "source": [
        "number_of_labels = original_df.nunique() "
      ],
      "execution_count": null,
      "outputs": []
    },
    {
      "cell_type": "code",
      "metadata": {
        "colab": {
          "base_uri": "https://localhost:8080/"
        },
        "id": "FPmKxd_C55Po",
        "outputId": "f5535e20-f41c-49a7-e490-21db584070fd"
      },
      "source": [
        "# printing value \n",
        "print(\"number_of_labels\",number_of_labels)  #4\n",
        "print(original_df.unique()) #['Benign' 'Brute Force -Web' 'Brute Force -XSS' 'SQL Injection'] \n",
        "print((original_df=='Benign').sum())\n",
        "print((original_df=='BruteForceWeb').sum())  \n",
        "print((original_df=='BruteForceXSS').sum())  \n",
        "print((original_df=='SQLInjection').sum())     \n"
      ],
      "execution_count": null,
      "outputs": [
        {
          "output_type": "stream",
          "text": [
            "number_of_labels 4\n",
            "['Benign' 'BruteForceWeb' 'BruteForceXSS' 'SQLInjection']\n",
            "1048009\n",
            "362\n",
            "151\n",
            "53\n"
          ],
          "name": "stdout"
        }
      ]
    },
    {
      "cell_type": "code",
      "metadata": {
        "colab": {
          "base_uri": "https://localhost:8080/"
        },
        "id": "FpqaV3-A57PM",
        "outputId": "73823482-90cd-4d36-f9da-ce26b66fde64"
      },
      "source": [
        "columns = list(df) \n",
        "print(\"columns\",columns)\n",
        "arr_labels = original_df.to_numpy()\n",
        "print(\"arr_labels\",arr_labels)\n",
        "print(\"arr_labels\",len(arr_labels)) \n",
        "print(\"arr_labels\",arr_labels.shape) \n",
        "# Total missing values for each feature\n",
        "print (\"Total missing values for each feature\",df.isnull().sum())\n",
        "with open(\"missing.txt\",'w') as f:\n",
        "\tf.write(str(df.isnull().sum()))"
      ],
      "execution_count": null,
      "outputs": [
        {
          "output_type": "stream",
          "text": [
            "columns ['Dst Port', 'Protocol', 'Timestamp', 'Flow Duration', 'Tot Fwd Pkts', 'Tot Bwd Pkts', 'TotLen Fwd Pkts', 'TotLen Bwd Pkts', 'Fwd Pkt Len Max', 'Fwd Pkt Len Min', 'Fwd Pkt Len Mean', 'Fwd Pkt Len Std', 'Bwd Pkt Len Max', 'Bwd Pkt Len Min', 'Bwd Pkt Len Mean', 'Bwd Pkt Len Std', 'Flow Byts/s', 'Flow Pkts/s', 'Flow IAT Mean', 'Flow IAT Std', 'Flow IAT Max', 'Flow IAT Min', 'Fwd IAT Tot', 'Fwd IAT Mean', 'Fwd IAT Std', 'Fwd IAT Max', 'Fwd IAT Min', 'Bwd IAT Tot', 'Bwd IAT Mean', 'Bwd IAT Std', 'Bwd IAT Max', 'Bwd IAT Min', 'Fwd PSH Flags', 'Bwd PSH Flags', 'Fwd URG Flags', 'Bwd URG Flags', 'Fwd Header Len', 'Bwd Header Len', 'Fwd Pkts/s', 'Bwd Pkts/s', 'Pkt Len Min', 'Pkt Len Max', 'Pkt Len Mean', 'Pkt Len Std', 'Pkt Len Var', 'FIN Flag Cnt', 'SYN Flag Cnt', 'RST Flag Cnt', 'PSH Flag Cnt', 'ACK Flag Cnt', 'URG Flag Cnt', 'CWE Flag Count', 'ECE Flag Cnt', 'Down/Up Ratio', 'Pkt Size Avg', 'Fwd Seg Size Avg', 'Bwd Seg Size Avg', 'Fwd Byts/b Avg', 'Fwd Pkts/b Avg', 'Fwd Blk Rate Avg', 'Bwd Byts/b Avg', 'Bwd Pkts/b Avg', 'Bwd Blk Rate Avg', 'Subflow Fwd Pkts', 'Subflow Fwd Byts', 'Subflow Bwd Pkts', 'Subflow Bwd Byts', 'Init Fwd Win Byts', 'Init Bwd Win Byts', 'Fwd Act Data Pkts', 'Fwd Seg Size Min', 'Active Mean', 'Active Std', 'Active Max', 'Active Min', 'Idle Mean', 'Idle Std', 'Idle Max', 'Idle Min', 'Label']\n",
            "arr_labels ['Benign' 'Benign' 'Benign' ... 'Benign' 'Benign' 'Benign']\n",
            "arr_labels 1048575\n",
            "arr_labels (1048575,)\n",
            "Total missing values for each feature Dst Port             0\n",
            "Protocol             0\n",
            "Timestamp            0\n",
            "Flow Duration        0\n",
            "Tot Fwd Pkts         0\n",
            "Tot Bwd Pkts         0\n",
            "TotLen Fwd Pkts      0\n",
            "TotLen Bwd Pkts      0\n",
            "Fwd Pkt Len Max      0\n",
            "Fwd Pkt Len Min      0\n",
            "Fwd Pkt Len Mean     0\n",
            "Fwd Pkt Len Std      0\n",
            "Bwd Pkt Len Max      0\n",
            "Bwd Pkt Len Min      0\n",
            "Bwd Pkt Len Mean     0\n",
            "Bwd Pkt Len Std      0\n",
            "Flow Byts/s          0\n",
            "Flow Pkts/s          0\n",
            "Flow IAT Mean        0\n",
            "Flow IAT Std         0\n",
            "Flow IAT Max         0\n",
            "Flow IAT Min         0\n",
            "Fwd IAT Tot          0\n",
            "Fwd IAT Mean         0\n",
            "Fwd IAT Std          0\n",
            "Fwd IAT Max          0\n",
            "Fwd IAT Min          0\n",
            "Bwd IAT Tot          0\n",
            "Bwd IAT Mean         0\n",
            "Bwd IAT Std          0\n",
            "Bwd IAT Max          0\n",
            "Bwd IAT Min          0\n",
            "Fwd PSH Flags        0\n",
            "Bwd PSH Flags        0\n",
            "Fwd URG Flags        0\n",
            "Bwd URG Flags        0\n",
            "Fwd Header Len       0\n",
            "Bwd Header Len       0\n",
            "Fwd Pkts/s           0\n",
            "Bwd Pkts/s           0\n",
            "Pkt Len Min          0\n",
            "Pkt Len Max          0\n",
            "Pkt Len Mean         0\n",
            "Pkt Len Std          0\n",
            "Pkt Len Var          0\n",
            "FIN Flag Cnt         0\n",
            "SYN Flag Cnt         0\n",
            "RST Flag Cnt         0\n",
            "PSH Flag Cnt         0\n",
            "ACK Flag Cnt         0\n",
            "URG Flag Cnt         0\n",
            "CWE Flag Count       0\n",
            "ECE Flag Cnt         0\n",
            "Down/Up Ratio        0\n",
            "Pkt Size Avg         0\n",
            "Fwd Seg Size Avg     0\n",
            "Bwd Seg Size Avg     0\n",
            "Fwd Byts/b Avg       0\n",
            "Fwd Pkts/b Avg       0\n",
            "Fwd Blk Rate Avg     0\n",
            "Bwd Byts/b Avg       0\n",
            "Bwd Pkts/b Avg       0\n",
            "Bwd Blk Rate Avg     0\n",
            "Subflow Fwd Pkts     0\n",
            "Subflow Fwd Byts     0\n",
            "Subflow Bwd Pkts     0\n",
            "Subflow Bwd Byts     0\n",
            "Init Fwd Win Byts    0\n",
            "Init Bwd Win Byts    0\n",
            "Fwd Act Data Pkts    0\n",
            "Fwd Seg Size Min     0\n",
            "Active Mean          0\n",
            "Active Std           0\n",
            "Active Max           0\n",
            "Active Min           0\n",
            "Idle Mean            0\n",
            "Idle Std             0\n",
            "Idle Max             0\n",
            "Idle Min             0\n",
            "Label                0\n",
            "dtype: int64\n"
          ],
          "name": "stdout"
        }
      ]
    },
    {
      "cell_type": "code",
      "metadata": {
        "colab": {
          "base_uri": "https://localhost:8080/"
        },
        "id": "NmFxsuBb59nI",
        "outputId": "61435866-372b-478a-e7f5-ccc2a04dbffb"
      },
      "source": [
        "# Any missing values?\n",
        "print (\"Any missing values?\",df.isnull().values.any())\n",
        "\n",
        "# Total number of missing values\n",
        "print (\"Total number of missing values\",df.isnull().sum().sum())\n",
        "\n",
        "\n",
        "df.replace([np.inf, -np.inf], np.nan, inplace=True)\n",
        "\n",
        "\n"
      ],
      "execution_count": null,
      "outputs": [
        {
          "output_type": "stream",
          "text": [
            "Any missing values? False\n",
            "Total number of missing values 0\n"
          ],
          "name": "stdout"
        }
      ]
    },
    {
      "cell_type": "code",
      "metadata": {
        "colab": {
          "base_uri": "https://localhost:8080/"
        },
        "id": "KbU4p5EW6ABn",
        "outputId": "2a3b03fe-903d-4363-9641-8070a4e541ad"
      },
      "source": [
        "print (\"Total missing values for each feature\",df.isnull().sum())\n",
        "with open(\"missing.txt\",'w') as f:\n",
        "\tf.write(str(df.isnull().sum()))\n"
      ],
      "execution_count": null,
      "outputs": [
        {
          "output_type": "stream",
          "text": [
            "Total missing values for each feature Dst Port             0\n",
            "Protocol             0\n",
            "Timestamp            0\n",
            "Flow Duration        0\n",
            "Tot Fwd Pkts         0\n",
            "Tot Bwd Pkts         0\n",
            "TotLen Fwd Pkts      0\n",
            "TotLen Bwd Pkts      0\n",
            "Fwd Pkt Len Max      0\n",
            "Fwd Pkt Len Min      0\n",
            "Fwd Pkt Len Mean     0\n",
            "Fwd Pkt Len Std      0\n",
            "Bwd Pkt Len Max      0\n",
            "Bwd Pkt Len Min      0\n",
            "Bwd Pkt Len Mean     0\n",
            "Bwd Pkt Len Std      0\n",
            "Flow Byts/s          0\n",
            "Flow Pkts/s          0\n",
            "Flow IAT Mean        0\n",
            "Flow IAT Std         0\n",
            "Flow IAT Max         0\n",
            "Flow IAT Min         0\n",
            "Fwd IAT Tot          0\n",
            "Fwd IAT Mean         0\n",
            "Fwd IAT Std          0\n",
            "Fwd IAT Max          0\n",
            "Fwd IAT Min          0\n",
            "Bwd IAT Tot          0\n",
            "Bwd IAT Mean         0\n",
            "Bwd IAT Std          0\n",
            "Bwd IAT Max          0\n",
            "Bwd IAT Min          0\n",
            "Fwd PSH Flags        0\n",
            "Bwd PSH Flags        0\n",
            "Fwd URG Flags        0\n",
            "Bwd URG Flags        0\n",
            "Fwd Header Len       0\n",
            "Bwd Header Len       0\n",
            "Fwd Pkts/s           0\n",
            "Bwd Pkts/s           0\n",
            "Pkt Len Min          0\n",
            "Pkt Len Max          0\n",
            "Pkt Len Mean         0\n",
            "Pkt Len Std          0\n",
            "Pkt Len Var          0\n",
            "FIN Flag Cnt         0\n",
            "SYN Flag Cnt         0\n",
            "RST Flag Cnt         0\n",
            "PSH Flag Cnt         0\n",
            "ACK Flag Cnt         0\n",
            "URG Flag Cnt         0\n",
            "CWE Flag Count       0\n",
            "ECE Flag Cnt         0\n",
            "Down/Up Ratio        0\n",
            "Pkt Size Avg         0\n",
            "Fwd Seg Size Avg     0\n",
            "Bwd Seg Size Avg     0\n",
            "Fwd Byts/b Avg       0\n",
            "Fwd Pkts/b Avg       0\n",
            "Fwd Blk Rate Avg     0\n",
            "Bwd Byts/b Avg       0\n",
            "Bwd Pkts/b Avg       0\n",
            "Bwd Blk Rate Avg     0\n",
            "Subflow Fwd Pkts     0\n",
            "Subflow Fwd Byts     0\n",
            "Subflow Bwd Pkts     0\n",
            "Subflow Bwd Byts     0\n",
            "Init Fwd Win Byts    0\n",
            "Init Bwd Win Byts    0\n",
            "Fwd Act Data Pkts    0\n",
            "Fwd Seg Size Min     0\n",
            "Active Mean          0\n",
            "Active Std           0\n",
            "Active Max           0\n",
            "Active Min           0\n",
            "Idle Mean            0\n",
            "Idle Std             0\n",
            "Idle Max             0\n",
            "Idle Min             0\n",
            "Label                0\n",
            "dtype: int64\n"
          ],
          "name": "stdout"
        }
      ]
    },
    {
      "cell_type": "code",
      "metadata": {
        "colab": {
          "base_uri": "https://localhost:8080/"
        },
        "id": "tsxqSciC6B_0",
        "outputId": "a0bffeff-0c07-4385-8743-e39555e56020"
      },
      "source": [
        "print (\"Any missing values?\",df.isnull().values.any())\n",
        "\n",
        "# Total number of missing values\n",
        "print (\"Total number of missing values\",df.isnull().sum().sum())\n",
        "\n"
      ],
      "execution_count": null,
      "outputs": [
        {
          "output_type": "stream",
          "text": [
            "Any missing values? False\n",
            "Total number of missing values 0\n"
          ],
          "name": "stdout"
        }
      ]
    },
    {
      "cell_type": "code",
      "metadata": {
        "colab": {
          "base_uri": "https://localhost:8080/"
        },
        "id": "hrx-7Cht6FOY",
        "outputId": "3916520a-480f-42ec-ff51-dc71b9fa7262"
      },
      "source": [
        "print(\"df.shape\",df.shape) \n"
      ],
      "execution_count": null,
      "outputs": [
        {
          "output_type": "stream",
          "text": [
            "df.shape (1048575, 80)\n"
          ],
          "name": "stdout"
        }
      ]
    },
    {
      "cell_type": "code",
      "metadata": {
        "id": "1ghTKf4M6HF_"
      },
      "source": [
        "from sklearn.preprocessing import LabelEncoder\n",
        "\n",
        "le = LabelEncoder()\n",
        "y1 = le.fit_transform(arr_labels)\n"
      ],
      "execution_count": null,
      "outputs": []
    },
    {
      "cell_type": "code",
      "metadata": {
        "id": "gLe2kg9s6I6j"
      },
      "source": [
        "encoded1=np.array(X_features)"
      ],
      "execution_count": null,
      "outputs": []
    },
    {
      "cell_type": "code",
      "metadata": {
        "id": "YSrhpW1Q6KmY"
      },
      "source": [
        "y3=y1\n",
        "encoded3=encoded1"
      ],
      "execution_count": null,
      "outputs": []
    },
    {
      "cell_type": "code",
      "metadata": {
        "id": "tWEdXrpa6MHO"
      },
      "source": [
        "trainX_data, testX_data, Y_TRAIN, Y_TEST = train_test_split(encoded1, y1, test_size=0.50, shuffle= True)"
      ],
      "execution_count": null,
      "outputs": []
    },
    {
      "cell_type": "code",
      "metadata": {
        "colab": {
          "base_uri": "https://localhost:8080/"
        },
        "id": "fhWQXf3a6Owo",
        "outputId": "f3b1e316-33fb-480f-d2b2-3ef21e757c06"
      },
      "source": [
        "# describes info about train and test set \n",
        "print(\" \") \n",
        "print(\"WORKING OF SMOTE ALGORITHM\") \n",
        "print(\" \") \n",
        "print(\"Y_TRAIN Number transactions X_train dataset: \", trainX_data.shape) \n",
        "print(\"Y_TRAIN Number transactions y_train dataset: \", Y_TRAIN.shape) \n",
        "print(\"Y_TRAIN Number transactions X_test dataset: \", testX_data.shape) \n",
        "print(\"Y_TRAIN Number transactions y_test dataset: \", Y_TEST.shape) \n",
        "\n"
      ],
      "execution_count": null,
      "outputs": [
        {
          "output_type": "stream",
          "text": [
            " \n",
            "WORKING OF SMOTE ALGORITHM\n",
            " \n",
            "Y_TRAIN Number transactions X_train dataset:  (524287, 76)\n",
            "Y_TRAIN Number transactions y_train dataset:  (524287,)\n",
            "Y_TRAIN Number transactions X_test dataset:  (524288, 76)\n",
            "Y_TRAIN Number transactions y_test dataset:  (524288,)\n"
          ],
          "name": "stdout"
        }
      ]
    },
    {
      "cell_type": "code",
      "metadata": {
        "colab": {
          "base_uri": "https://localhost:8080/"
        },
        "id": "obC2bvTO6REM",
        "outputId": "b6d1d4c2-6a3f-4fd7-af2c-c6ebb1598f74"
      },
      "source": [
        "\n",
        "print(\"Before OverSampling, counts of label '1': {}\".format(sum(Y_TRAIN == 1))) \n",
        "print(\"Before OverSampling, counts of label '0': {} \\n\".format(sum(Y_TRAIN == 0))) \n",
        "print(\"Before OverSampling, counts of label '2': {}\".format(sum(Y_TRAIN == 2))) \n",
        "print(\"Before OverSampling, counts of label '3': {} \\n\".format(sum(Y_TRAIN == 3))) \n"
      ],
      "execution_count": null,
      "outputs": [
        {
          "output_type": "stream",
          "text": [
            "Before OverSampling, counts of label '1': 186\n",
            "Before OverSampling, counts of label '0': 524001 \n",
            "\n",
            "Before OverSampling, counts of label '2': 74\n",
            "Before OverSampling, counts of label '3': 26 \n",
            "\n"
          ],
          "name": "stdout"
        }
      ]
    },
    {
      "cell_type": "code",
      "metadata": {
        "colab": {
          "base_uri": "https://localhost:8080/"
        },
        "id": "BxyjQFNW6T1Q",
        "outputId": "bc19fda3-ad9e-4088-f8f2-708348582d05"
      },
      "source": [
        "print(\"Y_TEST Before OverSampling, counts of label '1': {}\".format(sum(Y_TEST == 1))) \n",
        "print(\"Y_TEST Before OverSampling, counts of label '0': {} \\n\".format(sum(Y_TEST == 0))) \n",
        "print(\"Y_TEST Before OverSampling, counts of label '2': {}\".format(sum(Y_TEST == 2))) \n",
        "print(\"Y_TEST Before OverSampling, counts of label '3': {} \\n\".format(sum(Y_TRAIN == 3))) \n",
        "\n"
      ],
      "execution_count": null,
      "outputs": [
        {
          "output_type": "stream",
          "text": [
            "Y_TEST Before OverSampling, counts of label '1': 176\n",
            "Y_TEST Before OverSampling, counts of label '0': 524008 \n",
            "\n",
            "Y_TEST Before OverSampling, counts of label '2': 77\n",
            "Y_TEST Before OverSampling, counts of label '3': 26 \n",
            "\n"
          ],
          "name": "stdout"
        }
      ]
    },
    {
      "cell_type": "code",
      "metadata": {
        "id": "CRh8w5ap6XBD"
      },
      "source": [
        "from imblearn.over_sampling import SMOTE \n",
        "sm = SMOTE(random_state = 2) \n",
        "encoded4, y4 = sm.fit_sample(encoded3, y3.ravel()) \n",
        "X_train_res, y_train_res = sm.fit_sample(trainX_data, Y_TRAIN.ravel()) \n",
        "X_test_res, y_test_res = sm.fit_sample(testX_data, Y_TEST.ravel()) "
      ],
      "execution_count": null,
      "outputs": []
    },
    {
      "cell_type": "code",
      "metadata": {
        "colab": {
          "base_uri": "https://localhost:8080/"
        },
        "id": "2ENEvh6y6di7",
        "outputId": "06a29214-5470-44b4-d019-a9ba1fb5f38a"
      },
      "source": [
        "print('After OverSampling, the shape of encoded4: {}'.format(encoded4.shape)) \n",
        "print('After OverSampling, the shape of train_X: {}'.format(X_train_res.shape)) \n",
        "print('After OverSampling, the shape of train_y: {} \\n'.format(y_train_res.shape)) \n",
        "print('After OverSampling, the shape of test_X: {}'.format(X_test_res.shape)) \n",
        "print('After OverSampling, the shape of test_y: {} \\n'.format(y_test_res.shape)) "
      ],
      "execution_count": null,
      "outputs": [
        {
          "output_type": "stream",
          "text": [
            "After OverSampling, the shape of encoded4: (4192036, 76)\n",
            "After OverSampling, the shape of train_X: (2096004, 76)\n",
            "After OverSampling, the shape of train_y: (2096004,) \n",
            "\n",
            "After OverSampling, the shape of test_X: (2096032, 76)\n",
            "After OverSampling, the shape of test_y: (2096032,) \n",
            "\n"
          ],
          "name": "stdout"
        }
      ]
    },
    {
      "cell_type": "code",
      "metadata": {
        "colab": {
          "base_uri": "https://localhost:8080/"
        },
        "id": "s8kq0L_26sEm",
        "outputId": "b09c0bd5-b8e4-4da3-be16-84bc34db8d0c"
      },
      "source": [
        "print(\"After OverSampling, counts of label '1' train: {}\".format(sum(y_train_res == 1))) \n",
        "print(\"After OverSampling, counts of label '0' train : {}\".format(sum(y_train_res == 0))) \n",
        "print(\"Before OverSampling, counts of label '2' train: {}\".format(sum(y_train_res == 2))) \n",
        "print(\"Before OverSampling, counts of label '3' train: {} \\n\".format(sum(y_train_res == 3))) \n",
        "\n",
        "\n",
        "print(\"After OverSampling, counts of label '1 test': {}\".format(sum(y_test_res == 1))) \n",
        "print(\"After OverSampling, counts of label '0' test: {}\".format(sum(y_test_res == 0))) \n",
        "print(\"Before OverSampling, counts of label '2' test: {}\".format(sum(y_test_res == 2))) \n",
        "print(\"Before OverSampling, counts of label '3' test: {} \\n\".format(sum(y_test_res == 3))) \n"
      ],
      "execution_count": null,
      "outputs": [
        {
          "output_type": "stream",
          "text": [
            "After OverSampling, counts of label '1' train: 524001\n",
            "After OverSampling, counts of label '0' train : 524001\n",
            "Before OverSampling, counts of label '2' train: 524001\n",
            "Before OverSampling, counts of label '3' train: 524001 \n",
            "\n",
            "After OverSampling, counts of label '1 test': 524008\n",
            "After OverSampling, counts of label '0' test: 524008\n",
            "Before OverSampling, counts of label '2' test: 524008\n",
            "Before OverSampling, counts of label '3' test: 524008 \n",
            "\n"
          ],
          "name": "stdout"
        }
      ]
    },
    {
      "cell_type": "code",
      "metadata": {
        "colab": {
          "base_uri": "https://localhost:8080/"
        },
        "id": "Bq4lFhrC6uh4",
        "outputId": "8918123d-a315-4de0-a217-8ca622aba77f"
      },
      "source": [
        "print(\"END OF SMOTE ALGORITHM\") "
      ],
      "execution_count": null,
      "outputs": [
        {
          "output_type": "stream",
          "text": [
            "END OF SMOTE ALGORITHM\n"
          ],
          "name": "stdout"
        }
      ]
    },
    {
      "cell_type": "code",
      "metadata": {
        "id": "s9sICPV268dA"
      },
      "source": [
        "Y_TRAIN=to_categorical(y_train_res,num_classes=4)\n",
        "Y_TEST=to_categorical(y_test_res,num_classes=4)\n",
        "trainX_data=np.reshape(X_train_res,(X_train_res.shape[0],X_train_res.shape[1],1))\n",
        "testX_data=np.reshape(X_test_res,(X_test_res.shape[0],X_test_res.shape[1],1))\n"
      ],
      "execution_count": null,
      "outputs": []
    },
    {
      "cell_type": "code",
      "metadata": {
        "colab": {
          "base_uri": "https://localhost:8080/"
        },
        "id": "D3QWdDh26-Wa",
        "outputId": "deabf0eb-1bed-404e-baf8-0baf40602d7b"
      },
      "source": [
        "print(\"Number transactions X_train dataset: \", trainX_data.shape) \n",
        "print(\"Number transactions y_train dataset: \", Y_TRAIN.shape) \n",
        "print(\"Number transactions X_test dataset: \", testX_data.shape) \n",
        "print(\"Number transactions y_test dataset: \", Y_TEST.shape) \n",
        "#sleep(100)"
      ],
      "execution_count": null,
      "outputs": [
        {
          "output_type": "stream",
          "text": [
            "Number transactions X_train dataset:  (2096004, 76, 1)\n",
            "Number transactions y_train dataset:  (2096004, 4)\n",
            "Number transactions X_test dataset:  (2096032, 76, 1)\n",
            "Number transactions y_test dataset:  (2096032, 4)\n"
          ],
          "name": "stdout"
        }
      ]
    },
    {
      "cell_type": "code",
      "metadata": {
        "colab": {
          "base_uri": "https://localhost:8080/",
          "height": 333
        },
        "id": "XYGYSAiE7ChC",
        "outputId": "81b6769c-d6a7-44cb-e684-f7bb1f95eaa8"
      },
      "source": [
        "# scatter plot of dataset, different color for each class\n",
        "def plot_dataset(X, y):\n",
        "\t# create scatter plot for samples from each class\n",
        "\tn_classes = len(unique(y))\n",
        "\tprint(\"n_classes\",n_classes)\n",
        "\tprint(\"y\",y)\n",
        "\tfor class_value in range(n_classes):\n",
        "\t\t# get row indexes for samples with this class\n",
        "\t\trow_ix = where(y == class_value)[0]\n",
        "\t\t# create scatter of these samples\n",
        "\t\tpyplot.scatter(X[row_ix, 0], X[row_ix, 1], label=str(class_value))\n",
        "\t# show a legend\n",
        "\tpyplot.legend()\n",
        "\tplt.title(\"Ploting of data points\")\n",
        "\tplt.ylabel('Labels')\n",
        "\tplt.xlabel('Data points')\n",
        "\t# show the plot\n",
        "\tpyplot.show()\n",
        "\n",
        "plot_dataset(X_train_res, y_train_res)\n"
      ],
      "execution_count": null,
      "outputs": [
        {
          "output_type": "stream",
          "text": [
            "n_classes 4\n",
            "y [0 0 0 ... 3 3 3]\n"
          ],
          "name": "stdout"
        },
        {
          "output_type": "display_data",
          "data": {
            "image/png": "[encoded data removed]",
            "text/plain": [
              "<Figure size 432x288 with 1 Axes>"
            ]
          },
          "metadata": {
            "tags": [],
            "needs_background": "light"
          }
        }
      ]
    },
    {
      "cell_type": "code",
      "metadata": {
        "id": "2P3HFY647QCr"
      },
      "source": [
        "from keras.layers import Input, Dense\n",
        "from keras.models import Model\n",
        "import numpy as np\n",
        "import pandas as pd\n",
        "import matplotlib.pyplot as plt\n",
        "from keras import backend as K\n"
      ],
      "execution_count": null,
      "outputs": []
    },
    {
      "cell_type": "code",
      "metadata": {
        "id": "Snar_9eP7YBG"
      },
      "source": [
        "input_img= Input(shape=(76,))\n",
        "\n",
        "encoded = Dense(units=76, activation='relu')(input_img)\n",
        "encoded = Dense(units=100, activation='relu')(encoded)\n",
        "encoded = Dense(units=50, activation='relu')(encoded)\n",
        "encoded = Dense(units=25, activation='relu')(encoded)\n",
        "encoded = Dense(units=12, activation='relu')(encoded)\n",
        "encoded = Dense(units=6, activation='relu')(encoded)\n",
        "\n",
        "decoded = Dense(units=12, activation='relu')(encoded)\n",
        "decoded = Dense(units=25, activation='relu')(decoded)\n",
        "decoded = Dense(units=50, activation='relu')(decoded)\n",
        "decoded = Dense(units=100, activation='relu')(decoded)\n",
        "decoded = Dense(units=200, activation='relu')(decoded)\n",
        "decoded = Dense(units=76, activation='softmax')(decoded)\n",
        "\n",
        "autoencoder=Model(input_img, decoded)\n"
      ],
      "execution_count": null,
      "outputs": []
    },
    {
      "cell_type": "code",
      "metadata": {
        "id": "b48U-R2b7b_K"
      },
      "source": [
        "encoder = Model(input_img, encoded)"
      ],
      "execution_count": null,
      "outputs": []
    },
    {
      "cell_type": "code",
      "metadata": {
        "colab": {
          "base_uri": "https://localhost:8080/"
        },
        "id": "U_5UROCC7g9P",
        "outputId": "78b5e633-305d-40ae-dcef-7b5ecdc19ea8"
      },
      "source": [
        "autoencoder.summary()"
      ],
      "execution_count": null,
      "outputs": [
        {
          "output_type": "stream",
          "text": [
            "Model: \"model\"\n",
            "_________________________________________________________________\n",
            "Layer (type)                 Output Shape              Param #   \n",
            "=================================================================\n",
            "input_1 (InputLayer)         [(None, 76)]              0         \n",
            "_________________________________________________________________\n",
            "dense (Dense)                (None, 76)                5852      \n",
            "_________________________________________________________________\n",
            "dense_1 (Dense)              (None, 100)               7700      \n",
            "_________________________________________________________________\n",
            "dense_2 (Dense)              (None, 50)                5050      \n",
            "_________________________________________________________________\n",
            "dense_3 (Dense)              (None, 25)                1275      \n",
            "_________________________________________________________________\n",
            "dense_4 (Dense)              (None, 12)                312       \n",
            "_________________________________________________________________\n",
            "dense_5 (Dense)              (None, 6)                 78        \n",
            "_________________________________________________________________\n",
            "dense_6 (Dense)              (None, 12)                84        \n",
            "_________________________________________________________________\n",
            "dense_7 (Dense)              (None, 25)                325       \n",
            "_________________________________________________________________\n",
            "dense_8 (Dense)              (None, 50)                1300      \n",
            "_________________________________________________________________\n",
            "dense_9 (Dense)              (None, 100)               5100      \n",
            "_________________________________________________________________\n",
            "dense_10 (Dense)             (None, 200)               20200     \n",
            "_________________________________________________________________\n",
            "dense_11 (Dense)             (None, 76)                15276     \n",
            "=================================================================\n",
            "Total params: 62,552\n",
            "Trainable params: 62,552\n",
            "Non-trainable params: 0\n",
            "_________________________________________________________________\n"
          ],
          "name": "stdout"
        }
      ]
    },
    {
      "cell_type": "code",
      "metadata": {
        "colab": {
          "base_uri": "https://localhost:8080/"
        },
        "id": "qugiYTwZ7iav",
        "outputId": "82aedda5-c9df-4f8e-814e-6ba8b22022a7"
      },
      "source": [
        "encoder.summary()"
      ],
      "execution_count": null,
      "outputs": [
        {
          "output_type": "stream",
          "text": [
            "Model: \"model_1\"\n",
            "_________________________________________________________________\n",
            "Layer (type)                 Output Shape              Param #   \n",
            "=================================================================\n",
            "input_1 (InputLayer)         [(None, 76)]              0         \n",
            "_________________________________________________________________\n",
            "dense (Dense)                (None, 76)                5852      \n",
            "_________________________________________________________________\n",
            "dense_1 (Dense)              (None, 100)               7700      \n",
            "_________________________________________________________________\n",
            "dense_2 (Dense)              (None, 50)                5050      \n",
            "_________________________________________________________________\n",
            "dense_3 (Dense)              (None, 25)                1275      \n",
            "_________________________________________________________________\n",
            "dense_4 (Dense)              (None, 12)                312       \n",
            "_________________________________________________________________\n",
            "dense_5 (Dense)              (None, 6)                 78        \n",
            "=================================================================\n",
            "Total params: 20,267\n",
            "Trainable params: 20,267\n",
            "Non-trainable params: 0\n",
            "_________________________________________________________________\n"
          ],
          "name": "stdout"
        }
      ]
    },
    {
      "cell_type": "code",
      "metadata": {
        "colab": {
          "base_uri": "https://localhost:8080/"
        },
        "id": "cUEjm4Bv7kHl",
        "outputId": "822d33ee-3a2f-4185-94d9-943e26508311"
      },
      "source": [
        "autoencoder.compile(optimizer='adam', loss='mse', metrics=['accuracy'])\n",
        "autoencoder.fit(X_train_res, X_train_res,\n",
        "                epochs=40,\n",
        "                batch_size=256,\n",
        "                shuffle=True,\n",
        "                validation_data=(X_test_res, X_test_res))\n",
        "encoder = Model(input_img, encoded)\n",
        "encoder.compile(optimizer='adam', loss='categorical_crossentropy', metrics=['accuracy'])"
      ],
      "execution_count": null,
      "outputs": [
        {
          "output_type": "stream",
          "text": [
            "Epoch 1/40\n",
            "8188/8188 [==============================] - 43s 5ms/step - loss: 39.1482 - accuracy: 0.7412 - val_loss: 39.3822 - val_accuracy: 0.0563\n",
            "Epoch 2/40\n",
            "8188/8188 [==============================] - 38s 5ms/step - loss: 40.1552 - accuracy: 0.0638 - val_loss: 39.3810 - val_accuracy: 0.0910\n",
            "Epoch 3/40\n",
            "8188/8188 [==============================] - 38s 5ms/step - loss: 40.1212 - accuracy: 0.1197 - val_loss: 39.3640 - val_accuracy: 0.0599\n",
            "Epoch 4/40\n",
            "8188/8188 [==============================] - 38s 5ms/step - loss: 40.0674 - accuracy: 0.0627 - val_loss: 39.3816 - val_accuracy: 0.0689\n",
            "Epoch 5/40\n",
            "8188/8188 [==============================] - 38s 5ms/step - loss: 40.0846 - accuracy: 0.0583 - val_loss: 38.3225 - val_accuracy: 0.8237\n",
            "Epoch 6/40\n",
            "8188/8188 [==============================] - 38s 5ms/step - loss: 39.1044 - accuracy: 0.8402 - val_loss: 38.3196 - val_accuracy: 0.8499\n",
            "Epoch 7/40\n",
            "8188/8188 [==============================] - 38s 5ms/step - loss: 39.1434 - accuracy: 0.8523 - val_loss: 38.3193 - val_accuracy: 0.8533\n",
            "Epoch 8/40\n",
            "8188/8188 [==============================] - 38s 5ms/step - loss: 39.0824 - accuracy: 0.8547 - val_loss: 38.3187 - val_accuracy: 0.8568\n",
            "Epoch 9/40\n",
            "8188/8188 [==============================] - 38s 5ms/step - loss: 39.0367 - accuracy: 0.8571 - val_loss: 38.3179 - val_accuracy: 0.8565\n",
            "Epoch 10/40\n",
            "8188/8188 [==============================] - 38s 5ms/step - loss: 39.0851 - accuracy: 0.8580 - val_loss: 38.3178 - val_accuracy: 0.8581\n",
            "Epoch 11/40\n",
            "8188/8188 [==============================] - 38s 5ms/step - loss: 39.0757 - accuracy: 0.8509 - val_loss: 38.3168 - val_accuracy: 0.8571\n",
            "Epoch 12/40\n",
            "8188/8188 [==============================] - 38s 5ms/step - loss: 39.0527 - accuracy: 0.8772 - val_loss: 38.3164 - val_accuracy: 0.9037\n",
            "Epoch 13/40\n",
            "8188/8188 [==============================] - 38s 5ms/step - loss: 39.0395 - accuracy: 0.8878 - val_loss: 38.3162 - val_accuracy: 0.8840\n",
            "Epoch 14/40\n",
            "8188/8188 [==============================] - 38s 5ms/step - loss: 39.0656 - accuracy: 0.8529 - val_loss: 38.3171 - val_accuracy: 0.8198\n",
            "Epoch 15/40\n",
            "8188/8188 [==============================] - 38s 5ms/step - loss: 39.0367 - accuracy: 0.8396 - val_loss: 38.3170 - val_accuracy: 0.8274\n",
            "Epoch 16/40\n",
            "8188/8188 [==============================] - 37s 5ms/step - loss: 39.0887 - accuracy: 0.8421 - val_loss: 38.3169 - val_accuracy: 0.8556\n",
            "Epoch 17/40\n",
            "8188/8188 [==============================] - 37s 5ms/step - loss: 39.0998 - accuracy: 0.8432 - val_loss: 38.3166 - val_accuracy: 0.8551\n",
            "Epoch 18/40\n",
            "8188/8188 [==============================] - 37s 5ms/step - loss: 39.0427 - accuracy: 0.8550 - val_loss: 38.3174 - val_accuracy: 0.8512\n",
            "Epoch 19/40\n",
            "8188/8188 [==============================] - 37s 5ms/step - loss: 39.0703 - accuracy: 0.8526 - val_loss: 38.3168 - val_accuracy: 0.8795\n",
            "Epoch 20/40\n",
            "8188/8188 [==============================] - 37s 5ms/step - loss: 39.2435 - accuracy: 0.7436 - val_loss: 38.3175 - val_accuracy: 0.8508\n",
            "Epoch 21/40\n",
            "8188/8188 [==============================] - 37s 5ms/step - loss: 39.0261 - accuracy: 0.8400 - val_loss: 38.3171 - val_accuracy: 0.8759\n",
            "Epoch 22/40\n",
            "8188/8188 [==============================] - 37s 5ms/step - loss: 39.1195 - accuracy: 0.8525 - val_loss: 38.3170 - val_accuracy: 0.8565\n",
            "Epoch 23/40\n",
            "8188/8188 [==============================] - 37s 5ms/step - loss: 39.0991 - accuracy: 0.8588 - val_loss: 38.3172 - val_accuracy: 0.8298\n",
            "Epoch 24/40\n",
            "8188/8188 [==============================] - 37s 5ms/step - loss: 39.0273 - accuracy: 0.8454 - val_loss: 38.3168 - val_accuracy: 0.8453\n",
            "Epoch 25/40\n",
            "8188/8188 [==============================] - 37s 5ms/step - loss: 39.0349 - accuracy: 0.8663 - val_loss: 38.3168 - val_accuracy: 0.8812\n",
            "Epoch 26/40\n",
            "8188/8188 [==============================] - 37s 5ms/step - loss: 39.0903 - accuracy: 0.8666 - val_loss: 38.3167 - val_accuracy: 0.8796\n",
            "Epoch 27/40\n",
            "8188/8188 [==============================] - 37s 5ms/step - loss: 39.0935 - accuracy: 0.8689 - val_loss: 38.3167 - val_accuracy: 0.8543\n",
            "Epoch 28/40\n",
            "8188/8188 [==============================] - 37s 5ms/step - loss: 39.0874 - accuracy: 0.8674 - val_loss: 38.3169 - val_accuracy: 0.8618\n",
            "Epoch 29/40\n",
            "8188/8188 [==============================] - 37s 5ms/step - loss: 39.0421 - accuracy: 0.8676 - val_loss: 38.3167 - val_accuracy: 0.8549\n",
            "Epoch 30/40\n",
            "8188/8188 [==============================] - 38s 5ms/step - loss: 39.0872 - accuracy: 0.8686 - val_loss: 38.3167 - val_accuracy: 0.8550\n",
            "Epoch 31/40\n",
            "8188/8188 [==============================] - 37s 5ms/step - loss: 39.0686 - accuracy: 0.8682 - val_loss: 38.3168 - val_accuracy: 0.8544\n",
            "Epoch 32/40\n",
            "8188/8188 [==============================] - 37s 5ms/step - loss: 39.1056 - accuracy: 0.8673 - val_loss: 38.3170 - val_accuracy: 0.8791\n",
            "Epoch 33/40\n",
            "8188/8188 [==============================] - 37s 5ms/step - loss: 39.0748 - accuracy: 0.8662 - val_loss: 38.3170 - val_accuracy: 0.8521\n",
            "Epoch 34/40\n",
            "8188/8188 [==============================] - 37s 5ms/step - loss: 39.0454 - accuracy: 0.8667 - val_loss: 38.3168 - val_accuracy: 0.8867\n",
            "Epoch 35/40\n",
            "8188/8188 [==============================] - 37s 5ms/step - loss: 39.0590 - accuracy: 0.8970 - val_loss: 38.3160 - val_accuracy: 0.9253\n",
            "Epoch 36/40\n",
            "8188/8188 [==============================] - 37s 5ms/step - loss: 39.0828 - accuracy: 0.9105 - val_loss: 38.3162 - val_accuracy: 0.9256\n",
            "Epoch 37/40\n",
            "8188/8188 [==============================] - 37s 5ms/step - loss: 39.0689 - accuracy: 0.9105 - val_loss: 38.3164 - val_accuracy: 0.9246\n",
            "Epoch 38/40\n",
            "8188/8188 [==============================] - 38s 5ms/step - loss: 39.0827 - accuracy: 0.9112 - val_loss: 38.3160 - val_accuracy: 0.8984\n",
            "Epoch 39/40\n",
            "8188/8188 [==============================] - 38s 5ms/step - loss: 39.0817 - accuracy: 0.9111 - val_loss: 38.3161 - val_accuracy: 0.9248\n",
            "Epoch 40/40\n",
            "8188/8188 [==============================] - 39s 5ms/step - loss: 39.0394 - accuracy: 0.9062 - val_loss: 38.3161 - val_accuracy: 0.8995\n"
          ],
          "name": "stdout"
        }
      ]
    },
    {
      "cell_type": "code",
      "metadata": {
        "colab": {
          "base_uri": "https://localhost:8080/"
        },
        "id": "O3OyKLr37sdC",
        "outputId": "dbadcbb3-39bb-472b-ad41-70ba9046eadf"
      },
      "source": [
        "\n",
        "pre_test=encoder.predict(X_test_res)\n",
        "print(pre_test.shape)\n",
        "pre_test=np.reshape(pre_test,(pre_test.shape[0],pre_test.shape[1],1))\n",
        "print(pre_test.shape)\n",
        "\n",
        "pre_train=encoder.predict(X_train_res)\n",
        "print(pre_train.shape)\n",
        "pre_train=np.reshape(pre_train,(pre_train.shape[0],pre_train.shape[1],1))\n",
        "print(pre_train.shape)\n"
      ],
      "execution_count": null,
      "outputs": [
        {
          "output_type": "stream",
          "text": [
            "(2096032, 6)\n",
            "(2096032, 6, 1)\n",
            "(2096004, 6)\n",
            "(2096004, 6, 1)\n"
          ],
          "name": "stdout"
        }
      ]
    },
    {
      "cell_type": "code",
      "metadata": {
        "id": "XsbxX9WeCxys"
      },
      "source": [
        "model = Sequential()"
      ],
      "execution_count": null,
      "outputs": []
    },
    {
      "cell_type": "code",
      "metadata": {
        "colab": {
          "base_uri": "https://localhost:8080/"
        },
        "id": "FA1PMbD1DRM8",
        "outputId": "1aa83b33-bdb4-47a0-db05-6429ec00c0b0"
      },
      "source": [
        "model.add(LSTM(128,input_shape=(pre_train.shape[1],pre_train.shape[2]),return_sequences=True))\n",
        "model.add(Bidirectional(LSTM(64,return_sequences=True)))\n",
        "model.add(Dropout(0.25))\n",
        "model.add(Bidirectional(LSTM(64)))\n",
        "model.add(Dropout(0.20))\n",
        "model.add(Dense(4, activation='softmax'))\n",
        "print(model.summary())\n"
      ],
      "execution_count": null,
      "outputs": [
        {
          "output_type": "stream",
          "text": [
            "Model: \"sequential\"\n",
            "_________________________________________________________________\n",
            "Layer (type)                 Output Shape              Param #   \n",
            "=================================================================\n",
            "lstm (LSTM)                  (None, 6, 128)            66560     \n",
            "_________________________________________________________________\n",
            "bidirectional (Bidirectional (None, 6, 128)            98816     \n",
            "_________________________________________________________________\n",
            "dropout (Dropout)            (None, 6, 128)            0         \n",
            "_________________________________________________________________\n",
            "bidirectional_1 (Bidirection (None, 128)               98816     \n",
            "_________________________________________________________________\n",
            "dropout_1 (Dropout)          (None, 128)               0         \n",
            "_________________________________________________________________\n",
            "dense_12 (Dense)             (None, 4)                 516       \n",
            "=================================================================\n",
            "Total params: 264,708\n",
            "Trainable params: 264,708\n",
            "Non-trainable params: 0\n",
            "_________________________________________________________________\n",
            "None\n"
          ],
          "name": "stdout"
        }
      ]
    },
    {
      "cell_type": "code",
      "metadata": {
        "id": "uXGpjPgQDTMK"
      },
      "source": [
        "# compile network\n",
        "model.compile(loss='categorical_crossentropy', optimizer='adam', metrics=['accuracy'])"
      ],
      "execution_count": null,
      "outputs": []
    },
    {
      "cell_type": "code",
      "metadata": {
        "colab": {
          "base_uri": "https://localhost:8080/"
        },
        "id": "4Ut8ItrlDWld",
        "outputId": "ac9d769a-3679-4958-f088-643746267b84"
      },
      "source": [
        "checkpoint = ModelCheckpoint(\"check.h5\", monitor='loss', verbose=1, save_best_only=True, mode='min')\n",
        "model.fit(pre_train, Y_TRAIN,batch_size=64, epochs=1, verbose=1,validation_data=(pre_test,Y_TEST))"
      ],
      "execution_count": null,
      "outputs": [
        {
          "output_type": "stream",
          "text": [
            "32751/32751 [==============================] - 470s 13ms/step - loss: 0.0232 - accuracy: 0.9910 - val_loss: 0.0302 - val_accuracy: 0.9983\n"
          ],
          "name": "stdout"
        },
        {
          "output_type": "execute_result",
          "data": {
            "text/plain": [
              "<tensorflow.python.keras.callbacks.History at 0x7f10b2a0b9d0>"
            ]
          },
          "metadata": {
            "tags": []
          },
          "execution_count": 45
        }
      ]
    },
    {
      "cell_type": "code",
      "metadata": {
        "colab": {
          "base_uri": "https://localhost:8080/"
        },
        "id": "l10b17FDDZsp",
        "outputId": "a0c7b49a-e212-478b-c16d-37953a505b05"
      },
      "source": [
        "yhat_classes = model.predict_classes(pre_test, verbose=1)"
      ],
      "execution_count": null,
      "outputs": [
        {
          "output_type": "stream",
          "text": [
            "65501/65501 [==============================] - 244s 4ms/step\n"
          ],
          "name": "stdout"
        }
      ]
    },
    {
      "cell_type": "code",
      "metadata": {
        "colab": {
          "base_uri": "https://localhost:8080/"
        },
        "id": "SwFyy9g7Fv2G",
        "outputId": "eb2cc863-bf21-4c36-e226-fc751de13ba2"
      },
      "source": [
        "from sklearn.metrics import classification_report, confusion_matrix\n",
        "import itertools    \n",
        "print(\" \") \n",
        "print(\"START OF CONFUSION CALCULATION\") \n",
        "\n",
        "print('Confusion Matrix Calculation')\n",
        "cm=confusion_matrix(y_test_res, yhat_classes)\n",
        "print(\"Confusion Matrix\",cm)"
      ],
      "execution_count": null,
      "outputs": [
        {
          "output_type": "stream",
          "text": [
            " \n",
            "START OF CONFUSION CALCULATION\n",
            "Confusion Matrix Calculation\n",
            "Confusion Matrix [[524008      0      0      0]\n",
            " [     0 524008      0      0]\n",
            " [     0      0 520496   3512]\n",
            " [     0      0      0 524008]]\n"
          ],
          "name": "stdout"
        }
      ]
    },
    {
      "cell_type": "code",
      "metadata": {
        "colab": {
          "base_uri": "https://localhost:8080/",
          "height": 433
        },
        "id": "bX6MsoiYG1Tj",
        "outputId": "72751c7a-ad57-42eb-9bab-772ad9127f18"
      },
      "source": [
        "def plot_confusion_matrix(cm, classes,\n",
        "                        normalize=False,\n",
        "                        title='Confusion matrix',\n",
        "                        cmap=plt.cm.Blues):\n",
        "    \"\"\"\n",
        "    This function prints and plots the confusion matrix.\n",
        "    Normalization can be applied by setting `normalize=True`.\n",
        "    \"\"\"\n",
        "    plt.imshow(cm, interpolation='nearest', cmap=cmap)\n",
        "    plt.title(title)\n",
        "    plt.colorbar()\n",
        "    tick_marks = np.arange(len(classes))\n",
        "    plt.xticks(tick_marks, classes, rotation=45)\n",
        "    plt.yticks(tick_marks, classes)\n",
        "\n",
        "    if normalize:\n",
        "        cm = cm.astype('float') / cm.sum(axis=1)[:, np.newaxis]\n",
        "        print(\"Normalized confusion matrix\")\n",
        "    else:\n",
        "        print('Confusion matrix, without normalization')\n",
        "\n",
        "    print(cm)\n",
        "\n",
        "    thresh = cm.max() / 2.\n",
        "    for i, j in itertools.product(range(cm.shape[0]), range(cm.shape[1])):\n",
        "        plt.text(j, i, cm[i, j],\n",
        "            horizontalalignment=\"center\",\n",
        "            color=\"white\" if cm[i, j] > thresh else \"black\")\n",
        "\n",
        "    plt.tight_layout()\n",
        "    plt.ylabel('True label')\n",
        "    plt.xlabel('Predicted label')\n",
        "    plt.show()\n",
        "cm_plot_labels = ['BruteForceWeb','BruteForceXSS','SQLInjection','Benign']\n",
        "plot_confusion_matrix(cm=cm, classes=cm_plot_labels, title='Confusion Matrix')\n",
        "print(\"END OF CONFUSION CALCULATION\") \n",
        "print(\" \") "
      ],
      "execution_count": null,
      "outputs": [
        {
          "output_type": "stream",
          "text": [
            "Confusion matrix, without normalization\n",
            "[[524008      0      0      0]\n",
            " [     0 524008      0      0]\n",
            " [     0      0 520496   3512]\n",
            " [     0      0      0 524008]]\n"
          ],
          "name": "stdout"
        },
        {
          "output_type": "display_data",
          "data": {
            "image/png": "[encoded data removed]",
            "text/plain": [
              "<Figure size 432x288 with 2 Axes>"
            ]
          },
          "metadata": {
            "tags": [],
            "needs_background": "light"
          }
        },
        {
          "output_type": "stream",
          "text": [
            "END OF CONFUSION CALCULATION\n",
            " \n"
          ],
          "name": "stdout"
        }
      ]
    },
    {
      "cell_type": "code",
      "metadata": {
        "colab": {
          "base_uri": "https://localhost:8080/"
        },
        "id": "5AnjLmxDG7wk",
        "outputId": "4acc759c-fadb-48f3-b807-cd85f0921b99"
      },
      "source": [
        "accuracy = accuracy_score(y_test_res, yhat_classes)\n",
        "print('Testing Accuracy: %f' % accuracy)\n",
        "precision = precision_score(y_test_res, yhat_classes,average='weighted')\n",
        "print('Testing Precision: %f' % precision)\n",
        "recall = recall_score(y_test_res, yhat_classes,average='weighted')\n",
        "print('Testing Recall: %f' % recall)\n",
        "f1 = f1_score(y_test_res, yhat_classes,average='weighted')\n",
        "print('Testing F1 score: %f' % f1)\n",
        "\n",
        "\n",
        "\n"
      ],
      "execution_count": null,
      "outputs": [
        {
          "output_type": "stream",
          "text": [
            "Testing Accuracy: 0.998324\n",
            "Testing Precision: 0.998336\n",
            "Testing Recall: 0.998324\n",
            "Testing F1 score: 0.998324\n"
          ],
          "name": "stdout"
        }
      ]
    },
    {
      "cell_type": "code",
      "metadata": {
        "id": "hrydUf5SG-Iw"
      },
      "source": [
        ""
      ],
      "execution_count": null,
      "outputs": []
    }
  ]
}