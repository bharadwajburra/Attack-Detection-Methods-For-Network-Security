{
  "nbformat": 4,
  "nbformat_minor": 0,
  "metadata": {
    "colab": {
      "name": "with pca.ipynb",
      "provenance": [],
      "collapsed_sections": []
    },
    "kernelspec": {
      "name": "python3",
      "display_name": "Python 3"
    },
    "language_info": {
      "name": "python"
    },
    "accelerator": "GPU"
  },
  "cells": [
    {
      "cell_type": "code",
      "metadata": {
        "id": "J1EmFh58tKv9"
      },
      "source": [
        "from keras.preprocessing.text import Tokenizer\n",
        "from keras.utils import to_categorical\n",
        "from keras.models import Sequential\n",
        "from keras.layers import Dense,GRU\n",
        "from keras.layers import Dropout\n",
        "from keras.layers import LSTM\n",
        "from keras.callbacks import ModelCheckpoint\n",
        "from keras.utils import np_utils\n",
        "from keras.layers import Embedding\n",
        "from keras.preprocessing.sequence import pad_sequences\n",
        "from time import sleep\n",
        "import string\n",
        "from textblob import TextBlob\n",
        "from nltk.corpus import stopwords\n",
        "from nltk.stem.wordnet import WordNetLemmatizer\n",
        "import nltk\n",
        "import re\n",
        "from keras.callbacks import ModelCheckpoint\n",
        "from keras.callbacks import EarlyStopping\n",
        "earlystopping = EarlyStopping(monitor = 'loss', verbose = 1,patience = 8, mode = 'min')\n",
        "from glob import glob\n",
        "import numpy as np\n",
        "from tqdm import tqdm\n",
        "from keras.utils import to_categorical\n",
        "from sklearn.feature_extraction.stop_words import ENGLISH_STOP_WORDS\n",
        "from nltk.stem import PorterStemmer\n",
        "from nltk.stem import WordNetLemmatizer\n",
        "from keras.layers import Bidirectional, GlobalMaxPool1D\n",
        "from sklearn.preprocessing import StandardScaler, RobustScaler\n",
        "import os, re, csv, math, codecs"
      ],
      "execution_count": null,
      "outputs": []
    },
    {
      "cell_type": "code",
      "metadata": {
        "id": "HOLO24fEtN2f"
      },
      "source": [
        "from numpy import unique\n",
        "from numpy import hstack\n",
        "from numpy import vstack\n",
        "from numpy import where\n",
        "from matplotlib import pyplot\n",
        "from sklearn.datasets import make_blobs\n",
        "\n",
        "\n",
        "from keras.models import Sequential  \n",
        "from keras.layers.core import Dense, Activation  \n",
        "from keras.layers import LSTM, GRU, SimpleRNN, Bidirectional\n",
        "from keras.layers import *\n",
        "from keras.callbacks import ReduceLROnPlateau, ModelCheckpoint, EarlyStopping\n",
        "import matplotlib.pyplot as plt\n"
      ],
      "execution_count": null,
      "outputs": []
    },
    {
      "cell_type": "code",
      "metadata": {
        "id": "ohFFBUr6uEd-"
      },
      "source": [
        "\n",
        "plt.style.use('ggplot')\n",
        "from sklearn.metrics import *\n",
        "import xgboost as xgb\n",
        "import pickle\n",
        "from sklearn.preprocessing import StandardScaler,MinMaxScaler\n",
        "import pandas as pd  \n",
        "from random import random\n",
        "from keras.utils import to_categorical\n",
        "import numpy as np\n",
        "import os\n",
        "import psutil\n",
        "from sklearn.model_selection import train_test_split\n",
        "from keras.utils import *\n",
        "#from imblearn.metrics import sensitivity_specificity_support\n",
        "from sklearn.model_selection import train_test_split\n",
        "from matplotlib import pyplot\n",
        "from tqdm import tqdm\n",
        "import pandas as pd\n",
        "from sklearn import preprocessing\n",
        "import gc\n",
        "gc.collect()\n",
        "from time import sleep\n",
        "#print(list(psutil.virtual_memory())[0:2])\n",
        "import pandas as pd\n",
        "import matplotlib.pyplot as plt\n",
        "from sklearn.preprocessing import LabelEncoder, StandardScaler\n",
        "from sklearn.decomposition import PCA\n",
        "from sklearn.model_selection import train_test_split\n",
        "import warnings"
      ],
      "execution_count": null,
      "outputs": []
    },
    {
      "cell_type": "code",
      "metadata": {
        "id": "QgejqCgbuIgJ"
      },
      "source": [
        "import pandas as pd\n",
        "import numpy as np\n",
        "from sklearn.feature_selection import SelectKBest\n",
        "from sklearn.feature_selection import chi2\n",
        "warnings.filterwarnings(\"ignore\")\n"
      ],
      "execution_count": null,
      "outputs": []
    },
    {
      "cell_type": "code",
      "metadata": {
        "colab": {
          "base_uri": "https://localhost:8080/"
        },
        "id": "_7Q2u6GfuMRn",
        "outputId": "048afdaf-90bc-4060-f749-3537bfed7a54"
      },
      "source": [
        "!gdown --id 1MjEK-6t0-2yMbAqSKAV5sYkbo8G47CxI&export=download"
      ],
      "execution_count": null,
      "outputs": [
        {
          "output_type": "stream",
          "text": [
            "Downloading...\n",
            "From: https://drive.google.com/uc?id=1MjEK-6t0-2yMbAqSKAV5sYkbo8G47CxI\n",
            "To: /content/Friday-23-02-2018_TrafficForML_CICFlowMeter.csv\n",
            "383MB [00:02, 179MB/s]\n"
          ],
          "name": "stdout"
        }
      ]
    },
    {
      "cell_type": "code",
      "metadata": {
        "colab": {
          "base_uri": "https://localhost:8080/"
        },
        "id": "XfHiLBPluP1e",
        "outputId": "63ce6a4a-fd21-45a7-8814-c45f477d67a1"
      },
      "source": [
        "MyList = []\n",
        "for chunk in \tpd.read_csv('Friday-23-02-2018_TrafficForML_CICFlowMeter.csv',delimiter=',', chunksize=10000):\n",
        "  print(len(MyList))\n",
        "  chunk.fillna(chunk.mean())\n",
        "  chunk[chunk==np.inf]=np.nan\n",
        "  chunk.fillna(chunk.mean(), inplace=True)\n",
        "  MyList.append(chunk)\n",
        "df = pd.concat(MyList, axis=0)\n",
        "print(df.shape)"
      ],
      "execution_count": null,
      "outputs": [
        {
          "output_type": "stream",
          "text": [
            "0\n",
            "1\n",
            "2\n",
            "3\n",
            "4\n",
            "5\n",
            "6\n",
            "7\n",
            "8\n",
            "9\n",
            "10\n",
            "11\n",
            "12\n",
            "13\n",
            "14\n",
            "15\n",
            "16\n",
            "17\n",
            "18\n",
            "19\n",
            "20\n",
            "21\n",
            "22\n",
            "23\n",
            "24\n",
            "25\n",
            "26\n",
            "27\n",
            "28\n",
            "29\n",
            "30\n",
            "31\n",
            "32\n",
            "33\n",
            "34\n",
            "35\n",
            "36\n",
            "37\n",
            "38\n",
            "39\n",
            "40\n",
            "41\n",
            "42\n",
            "43\n",
            "44\n",
            "45\n",
            "46\n",
            "47\n",
            "48\n",
            "49\n",
            "50\n",
            "51\n",
            "52\n",
            "53\n",
            "54\n",
            "55\n",
            "56\n",
            "57\n",
            "58\n",
            "59\n",
            "60\n",
            "61\n",
            "62\n",
            "63\n",
            "64\n",
            "65\n",
            "66\n",
            "67\n",
            "68\n",
            "69\n",
            "70\n",
            "71\n",
            "72\n",
            "73\n",
            "74\n",
            "75\n",
            "76\n",
            "77\n",
            "78\n",
            "79\n",
            "80\n",
            "81\n",
            "82\n",
            "83\n",
            "84\n",
            "85\n",
            "86\n",
            "87\n",
            "88\n",
            "89\n",
            "90\n",
            "91\n",
            "92\n",
            "93\n",
            "94\n",
            "95\n",
            "96\n",
            "97\n",
            "98\n",
            "99\n",
            "100\n",
            "101\n",
            "102\n",
            "103\n",
            "104\n",
            "(1048575, 80)\n"
          ],
          "name": "stdout"
        }
      ]
    },
    {
      "cell_type": "code",
      "metadata": {
        "id": "j3CJQjF0uvoQ"
      },
      "source": [
        "df.to_pickle('DataFrame.pkl') "
      ],
      "execution_count": null,
      "outputs": []
    },
    {
      "cell_type": "code",
      "metadata": {
        "id": "9ZzRxkHju_Bu"
      },
      "source": [
        "pd.set_option('display.max_columns', None)  # or 1000\n",
        "pd.set_option('display.max_rows', None)  # or 1000\n",
        "pd.set_option('display.max_colwidth', -1) \n",
        "\n",
        "df.replace([np.inf, -np.inf], np.nan, inplace=True)\n",
        "df['Label']=df['Label'].replace({'Brute Force -Web': 'BruteForceWeb','Brute Force -XSS':'BruteForceXSS','SQL Injection':'SQLInjection'})\n",
        "encoder = LabelEncoder()\n",
        "original_df = df['Label'].copy()"
      ],
      "execution_count": null,
      "outputs": []
    },
    {
      "cell_type": "code",
      "metadata": {
        "colab": {
          "base_uri": "https://localhost:8080/"
        },
        "id": "QPhISeUgvOiU",
        "outputId": "ce5d6fd7-9a93-4b67-8084-29215154bbd9"
      },
      "source": [
        "# Now apply the transformation to all the columns:\n",
        "for col in df.columns:\n",
        "    print(col)\n",
        "    if col==\"Label\":\n",
        "    \tdf[col] = encoder.fit_transform(df[col])"
      ],
      "execution_count": null,
      "outputs": [
        {
          "output_type": "stream",
          "text": [
            "Dst_Port\n",
            "Protocol\n",
            "Timestamp\n",
            "Flow_Duration\n",
            "Tot_Fwd_Pkts\n",
            "Tot_Bwd_Pkts\n",
            "TotLen_Fwd_Pkts\n",
            "TotLen_Bwd_Pkts\n",
            "Fwd Pkt Len Max\n",
            "Fwd_Pkt_Len_Min\n",
            "Fwd_Pkt_Len_Mean\n",
            "Fwd Pkt Len Std\n",
            "Bwd Pkt Len Max\n",
            "Bwd Pkt Len Min\n",
            "Bwd_Pkt_Len_Mean\n",
            "Bwd Pkt Len Std\n",
            "Flow_Byts_s\n",
            "Flow_Pkts_s\n",
            "Flow_IAT_Mean\n",
            "Flow_IAT_Std\n",
            "Flow_IAT_Max\n",
            "Flow_IAT_Min\n",
            "Fwd_IAT_Tot\n",
            "Fwd_IAT_Mean\n",
            "Fwd_IAT_Std\n",
            "Fwd_IAT_Max\n",
            "Fwd_IAT_Min\n",
            "Bwd_IAT_Tot\n",
            "Bwd_IAT_Mean\n",
            "Bwd_IAT_Std\n",
            "Bwd_IAT_Max\n",
            "Bwd_IAT_Min\n",
            "Fwd PSH Flags\n",
            "Bwd PSH Flags\n",
            "Fwd URG Flags\n",
            "Bwd URG Flags\n",
            "Fwd_Header_Len\n",
            "Bwd Header Len\n",
            "Fwd_Pkts_s\n",
            "Bwd_Pkts_s\n",
            "Pkt_Len_Min\n",
            "Pkt Len Max\n",
            "Pkt Len Mean\n",
            "Pkt Len Std\n",
            "Pkt Len Var\n",
            "FIN Flag Cnt\n",
            "SYN Flag Cnt\n",
            "RST_Flag_Cnt\n",
            "PSH_Flag_Cnt\n",
            "ACK Flag Cnt\n",
            "URG Flag Cnt\n",
            "CWE Flag Count\n",
            "ECE_Flag_Cnt\n",
            "Down/Up Ratio\n",
            "Pkt_Size_Avg\n",
            "Fwd_Seg_Size_Avg\n",
            "Bwd_Seg_Size_Avg\n",
            "Fwd Byts/b Avg\n",
            "Fwd Pkts/b Avg\n",
            "Fwd Blk Rate Avg\n",
            "Bwd Byts/b Avg\n",
            "Bwd Pkts/b Avg\n",
            "Bwd Blk Rate Avg\n",
            "Subflow Fwd Pkts\n",
            "Subflow_Fwd_Byts\n",
            "Subflow Bwd Pkts\n",
            "Subflow Bwd Byts\n",
            "Init_Fwd_Win_Byts\n",
            "Init_Bwd_Win_Byts\n",
            "Fwd Act Data Pkts\n",
            "Fwd_Seg_Size_Min\n",
            "Active Mean\n",
            "Active Std\n",
            "Active Max\n",
            "Active Min\n",
            "Idle Mean\n",
            "Idle_Std\n",
            "Idle Max\n",
            "Idle Min\n",
            "Label\n"
          ],
          "name": "stdout"
        }
      ]
    },
    {
      "cell_type": "code",
      "metadata": {
        "id": "vaXMR7_DvRNH",
        "colab": {
          "base_uri": "https://localhost:8080/"
        },
        "outputId": "3bdf5b88-7aba-476c-887b-d9daeeb8e207"
      },
      "source": [
        "y_label = df.iloc[:, -1]\n",
        "X_features = df.iloc[:,4:80] #X_features\n",
        "print(\"X_features\",X_features.shape)"
      ],
      "execution_count": null,
      "outputs": [
        {
          "output_type": "stream",
          "text": [
            "X_features (1048575, 76)\n"
          ],
          "name": "stdout"
        }
      ]
    },
    {
      "cell_type": "code",
      "metadata": {
        "id": "TY-sFxEIvZRZ"
      },
      "source": [
        "# Scaling the features"
      ],
      "execution_count": null,
      "outputs": []
    },
    {
      "cell_type": "code",
      "metadata": {
        "colab": {
          "base_uri": "https://localhost:8080/"
        },
        "id": "nogPoXLovbgw",
        "outputId": "242db793-aa5c-498e-d1d8-8df5bbd7bfcd"
      },
      "source": [
        "scaler = StandardScaler()\n",
        "X_features = scaler.fit_transform(X_features)\n",
        "print(\"X_features\",X_features.shape)\n",
        "# Visualize\n",
        "pca = PCA()\n",
        "pca_components=pca.fit_transform(X_features)\n",
        "pca_variance = pca.explained_variance_\n",
        "principle_df=pd.DataFrame(data=pca_components)\n",
        "print(\"pca_components\",pca_components)\n",
        "print(\"pca_variance\",pca_variance)\n",
        "print(\"principle_df\",principle_df.shape)"
      ],
      "execution_count": null,
      "outputs": [
        {
          "output_type": "stream",
          "text": [
            "X_features (1048575, 76)\n",
            "pca_components [[ 3.49280409e+00  1.10527999e-02 -6.70403061e-01 ... -8.80893572e-17\n",
            "   9.31731639e-14  1.15824032e-14]\n",
            " [ 2.88475226e+00  3.72369962e+00  1.40567808e-01 ...  2.08983451e-16\n",
            "  -7.81811979e-16 -1.65131688e-14]\n",
            " [ 2.88475287e+00  3.72369981e+00  1.40567768e-01 ... -3.53973024e-17\n",
            "  -1.61967764e-15  1.35505386e-16]\n",
            " ...\n",
            " [-1.29052505e+00 -2.32655209e+00  6.56504715e-01 ...  1.12196215e-18\n",
            "  -8.46126928e-19 -9.21069443e-19]\n",
            " [ 4.84647816e+00 -3.04530426e-01 -1.20621935e+00 ... -1.45141901e-18\n",
            "  -2.33686532e-17 -3.24579256e-18]\n",
            " [ 1.16275835e-01 -1.18463873e+00 -6.32471219e-02 ...  7.48687671e-19\n",
            "  -1.21024497e-18  6.57517466e-18]]\n",
            "pca_variance [1.40651405e+01 1.02469038e+01 7.52689237e+00 4.86824842e+00\n",
            " 3.73528844e+00 2.96698668e+00 2.61362981e+00 2.31498929e+00\n",
            " 1.98650765e+00 1.76973292e+00 1.34738340e+00 1.25108388e+00\n",
            " 1.14222350e+00 1.03865981e+00 9.78359381e-01 9.49090936e-01\n",
            " 9.31568791e-01 8.36288310e-01 7.34488851e-01 6.55300724e-01\n",
            " 5.34228968e-01 4.95244621e-01 4.35104413e-01 4.24112442e-01\n",
            " 3.85251125e-01 3.36873327e-01 2.78417385e-01 2.45777200e-01\n",
            " 1.89581415e-01 1.40853979e-01 1.14606703e-01 9.86453328e-02\n",
            " 9.35316873e-02 6.51665330e-02 4.24737773e-02 3.19802642e-02\n",
            " 2.58373025e-02 1.88967638e-02 1.62635595e-02 1.29180973e-02\n",
            " 1.16887203e-02 8.75750322e-03 8.31558465e-03 6.15781135e-03\n",
            " 5.06028197e-03 4.45600967e-03 3.83519220e-03 2.58116777e-03\n",
            " 1.85290883e-03 1.07676804e-03 7.32268547e-04 5.36298217e-04\n",
            " 1.93999697e-04 1.11584645e-04 7.20620859e-05 6.37385997e-05\n",
            " 2.58798530e-05 9.26374063e-06 3.52821578e-06 5.39890262e-30\n",
            " 1.89638028e-30 1.64376545e-30 3.49427957e-31 1.11344183e-31\n",
            " 7.91663944e-32 7.91663944e-32 7.91663944e-32 7.91663944e-32\n",
            " 7.91663944e-32 7.91663944e-32 7.91663944e-32 7.91663944e-32\n",
            " 7.91663944e-32 7.91663944e-32 2.58233642e-32 5.03824439e-33]\n",
            "principle_df (1048575, 76)\n"
          ],
          "name": "stdout"
        }
      ]
    },
    {
      "cell_type": "code",
      "metadata": {
        "colab": {
          "base_uri": "https://localhost:8080/",
          "height": 391
        },
        "id": "7VGFIGwjves8",
        "outputId": "c61f979c-2fa0-490f-ca35-79caa7144556"
      },
      "source": [
        "plt.figure(figsize=(8, 6))\n",
        "plt.bar(range(76), pca_variance, alpha=0.5, align='center', label='individual PCA variance')\n",
        "plt.legend()\n",
        "plt.ylabel('Variance ratio')\n",
        "plt.xlabel('Principal components')\n",
        "plt.show()"
      ],
      "execution_count": null,
      "outputs": [
        {
          "output_type": "display_data",
          "data": {
            "image/png": "[encoded data removed]",
            "text/plain": [
              "<Figure size 576x432 with 1 Axes>"
            ]
          },
          "metadata": {
            "tags": []
          }
        }
      ]
    },
    {
      "cell_type": "code",
      "metadata": {
        "colab": {
          "base_uri": "https://localhost:8080/",
          "height": 408
        },
        "id": "rQNjMs64wAQv",
        "outputId": "82225338-f358-4cd8-ce5e-d2fbcbeba288"
      },
      "source": [
        "pca2 = PCA(n_components=8)\n",
        "pca2.fit(X_features)\n",
        "x_3d = pca2.transform(X_features)\n",
        "\n",
        "plt.figure(figsize=(8,6))\n",
        "plt.scatter(x_3d[:,0], x_3d[:,1], c=df['Label'])\n",
        "plt.title(\"PCA PLOTTING FOR IMBALANCED DATA\")\n",
        "plt.xlabel(\"PC1\")\n",
        "plt.ylabel(\"PC2\")\n",
        "cbar= plt.colorbar()\n",
        "cbar.set_label(\"pca1 vs pca2 (m)\", labelpad=+1)\n",
        "plt.show()\n",
        "\n",
        "\n",
        "\n"
      ],
      "execution_count": null,
      "outputs": [
        {
          "output_type": "display_data",
          "data": {
            "image/png": "[encoded data removed]",
            "text/plain": [
              "<Figure size 576x432 with 2 Axes>"
            ]
          },
          "metadata": {
            "tags": []
          }
        }
      ]
    },
    {
      "cell_type": "code",
      "metadata": {
        "colab": {
          "base_uri": "https://localhost:8080/"
        },
        "id": "PKn7sr_iwFcD",
        "outputId": "6b017414-ddf6-45c5-de65-424ab4f02e22"
      },
      "source": [
        "number_of_labels = original_df.nunique() \n",
        "# printing value \n",
        "print(\"number_of_labels\",number_of_labels)  #4\n",
        "print(original_df.unique()) #['Benign' 'Brute Force -Web' 'Brute Force -XSS' 'SQL Injection'] \n",
        "print((original_df=='Benign').sum()) #1048009\n",
        "print((original_df=='BruteForceWeb').sum())  #362\n",
        "print((original_df=='BruteForceXSS').sum())  #151\n",
        "print((original_df=='SQLInjection').sum())     #53\n",
        "\n"
      ],
      "execution_count": null,
      "outputs": [
        {
          "output_type": "stream",
          "text": [
            "number_of_labels 4\n",
            "['Benign' 'BruteForceWeb' 'BruteForceXSS' 'SQLInjection']\n",
            "1048009\n",
            "362\n",
            "151\n",
            "53\n"
          ],
          "name": "stdout"
        }
      ]
    },
    {
      "cell_type": "code",
      "metadata": {
        "id": "LPGVCtTtwJgS",
        "colab": {
          "base_uri": "https://localhost:8080/"
        },
        "outputId": "73af5e3a-49d6-4a4d-a144-359081a7bc01"
      },
      "source": [
        "columns = list(df) \n",
        "print(\"columns\",columns)\n",
        "arr_labels = original_df.to_numpy()\n",
        "print(\"arr_labels\",arr_labels)\n",
        "print(\"arr_labels\",len(arr_labels)) \n",
        "print(\"arr_labels\",arr_labels.shape) \n",
        "# Total missing values for each feature\n",
        "print (\"Total missing values for each feature\",df.isnull().sum())\n",
        "with open(\"missing.txt\",'w') as f:\n",
        "\tf.write(str(df.isnull().sum()))\n"
      ],
      "execution_count": null,
      "outputs": [
        {
          "output_type": "stream",
          "text": [
            "columns ['Dst Port', 'Protocol', 'Timestamp', 'Flow Duration', 'Tot Fwd Pkts', 'Tot Bwd Pkts', 'TotLen Fwd Pkts', 'TotLen Bwd Pkts', 'Fwd Pkt Len Max', 'Fwd Pkt Len Min', 'Fwd Pkt Len Mean', 'Fwd Pkt Len Std', 'Bwd Pkt Len Max', 'Bwd Pkt Len Min', 'Bwd Pkt Len Mean', 'Bwd Pkt Len Std', 'Flow Byts/s', 'Flow Pkts/s', 'Flow IAT Mean', 'Flow IAT Std', 'Flow IAT Max', 'Flow IAT Min', 'Fwd IAT Tot', 'Fwd IAT Mean', 'Fwd IAT Std', 'Fwd IAT Max', 'Fwd IAT Min', 'Bwd IAT Tot', 'Bwd IAT Mean', 'Bwd IAT Std', 'Bwd IAT Max', 'Bwd IAT Min', 'Fwd PSH Flags', 'Bwd PSH Flags', 'Fwd URG Flags', 'Bwd URG Flags', 'Fwd Header Len', 'Bwd Header Len', 'Fwd Pkts/s', 'Bwd Pkts/s', 'Pkt Len Min', 'Pkt Len Max', 'Pkt Len Mean', 'Pkt Len Std', 'Pkt Len Var', 'FIN Flag Cnt', 'SYN Flag Cnt', 'RST Flag Cnt', 'PSH Flag Cnt', 'ACK Flag Cnt', 'URG Flag Cnt', 'CWE Flag Count', 'ECE Flag Cnt', 'Down/Up Ratio', 'Pkt Size Avg', 'Fwd Seg Size Avg', 'Bwd Seg Size Avg', 'Fwd Byts/b Avg', 'Fwd Pkts/b Avg', 'Fwd Blk Rate Avg', 'Bwd Byts/b Avg', 'Bwd Pkts/b Avg', 'Bwd Blk Rate Avg', 'Subflow Fwd Pkts', 'Subflow Fwd Byts', 'Subflow Bwd Pkts', 'Subflow Bwd Byts', 'Init Fwd Win Byts', 'Init Bwd Win Byts', 'Fwd Act Data Pkts', 'Fwd Seg Size Min', 'Active Mean', 'Active Std', 'Active Max', 'Active Min', 'Idle Mean', 'Idle Std', 'Idle Max', 'Idle Min', 'Label']\n",
            "arr_labels ['Benign' 'Benign' 'Benign' ... 'Benign' 'Benign' 'Benign']\n",
            "arr_labels 1048575\n",
            "arr_labels (1048575,)\n",
            "Total missing values for each feature Dst Port             0\n",
            "Protocol             0\n",
            "Timestamp            0\n",
            "Flow Duration        0\n",
            "Tot Fwd Pkts         0\n",
            "Tot Bwd Pkts         0\n",
            "TotLen Fwd Pkts      0\n",
            "TotLen Bwd Pkts      0\n",
            "Fwd Pkt Len Max      0\n",
            "Fwd Pkt Len Min      0\n",
            "Fwd Pkt Len Mean     0\n",
            "Fwd Pkt Len Std      0\n",
            "Bwd Pkt Len Max      0\n",
            "Bwd Pkt Len Min      0\n",
            "Bwd Pkt Len Mean     0\n",
            "Bwd Pkt Len Std      0\n",
            "Flow Byts/s          0\n",
            "Flow Pkts/s          0\n",
            "Flow IAT Mean        0\n",
            "Flow IAT Std         0\n",
            "Flow IAT Max         0\n",
            "Flow IAT Min         0\n",
            "Fwd IAT Tot          0\n",
            "Fwd IAT Mean         0\n",
            "Fwd IAT Std          0\n",
            "Fwd IAT Max          0\n",
            "Fwd IAT Min          0\n",
            "Bwd IAT Tot          0\n",
            "Bwd IAT Mean         0\n",
            "Bwd IAT Std          0\n",
            "Bwd IAT Max          0\n",
            "Bwd IAT Min          0\n",
            "Fwd PSH Flags        0\n",
            "Bwd PSH Flags        0\n",
            "Fwd URG Flags        0\n",
            "Bwd URG Flags        0\n",
            "Fwd Header Len       0\n",
            "Bwd Header Len       0\n",
            "Fwd Pkts/s           0\n",
            "Bwd Pkts/s           0\n",
            "Pkt Len Min          0\n",
            "Pkt Len Max          0\n",
            "Pkt Len Mean         0\n",
            "Pkt Len Std          0\n",
            "Pkt Len Var          0\n",
            "FIN Flag Cnt         0\n",
            "SYN Flag Cnt         0\n",
            "RST Flag Cnt         0\n",
            "PSH Flag Cnt         0\n",
            "ACK Flag Cnt         0\n",
            "URG Flag Cnt         0\n",
            "CWE Flag Count       0\n",
            "ECE Flag Cnt         0\n",
            "Down/Up Ratio        0\n",
            "Pkt Size Avg         0\n",
            "Fwd Seg Size Avg     0\n",
            "Bwd Seg Size Avg     0\n",
            "Fwd Byts/b Avg       0\n",
            "Fwd Pkts/b Avg       0\n",
            "Fwd Blk Rate Avg     0\n",
            "Bwd Byts/b Avg       0\n",
            "Bwd Pkts/b Avg       0\n",
            "Bwd Blk Rate Avg     0\n",
            "Subflow Fwd Pkts     0\n",
            "Subflow Fwd Byts     0\n",
            "Subflow Bwd Pkts     0\n",
            "Subflow Bwd Byts     0\n",
            "Init Fwd Win Byts    0\n",
            "Init Bwd Win Byts    0\n",
            "Fwd Act Data Pkts    0\n",
            "Fwd Seg Size Min     0\n",
            "Active Mean          0\n",
            "Active Std           0\n",
            "Active Max           0\n",
            "Active Min           0\n",
            "Idle Mean            0\n",
            "Idle Std             0\n",
            "Idle Max             0\n",
            "Idle Min             0\n",
            "Label                0\n",
            "dtype: int64\n"
          ],
          "name": "stdout"
        }
      ]
    },
    {
      "cell_type": "code",
      "metadata": {
        "colab": {
          "base_uri": "https://localhost:8080/"
        },
        "id": "YhhsNvH8wM2f",
        "outputId": "ba72c983-eab6-4b6e-9024-0888007d31dd"
      },
      "source": [
        "print (\"Any missing values?\",df.isnull().values.any())\n",
        "\n",
        "# Total number of missing values\n",
        "print (\"Total number of missing values\",df.isnull().sum().sum())\n"
      ],
      "execution_count": null,
      "outputs": [
        {
          "output_type": "stream",
          "text": [
            "Any missing values? False\n",
            "Total number of missing values 0\n"
          ],
          "name": "stdout"
        }
      ]
    },
    {
      "cell_type": "code",
      "metadata": {
        "id": "KmxNxP_owOl5"
      },
      "source": [
        "df.replace([np.inf, -np.inf], np.nan, inplace=True)\n",
        "\n"
      ],
      "execution_count": null,
      "outputs": []
    },
    {
      "cell_type": "code",
      "metadata": {
        "colab": {
          "base_uri": "https://localhost:8080/"
        },
        "id": "XKbtSvT3yVSe",
        "outputId": "2e3526fc-100a-4d35-ec08-9e8bad226dde"
      },
      "source": [
        "print (\"Total missing values for each feature\",df.isnull().sum())\n",
        "with open(\"missing.txt\",'w') as f:\n",
        "\tf.write(str(df.isnull().sum()))\n",
        "\n",
        "# Any missing values?\n",
        "print (\"Any missing values?\",df.isnull().values.any())\n",
        "\n",
        "# Total number of missing values\n",
        "print (\"Total number of missing values\",df.isnull().sum().sum())"
      ],
      "execution_count": null,
      "outputs": [
        {
          "output_type": "stream",
          "text": [
            "Total missing values for each feature Dst Port             0\n",
            "Protocol             0\n",
            "Timestamp            0\n",
            "Flow Duration        0\n",
            "Tot Fwd Pkts         0\n",
            "Tot Bwd Pkts         0\n",
            "TotLen Fwd Pkts      0\n",
            "TotLen Bwd Pkts      0\n",
            "Fwd Pkt Len Max      0\n",
            "Fwd Pkt Len Min      0\n",
            "Fwd Pkt Len Mean     0\n",
            "Fwd Pkt Len Std      0\n",
            "Bwd Pkt Len Max      0\n",
            "Bwd Pkt Len Min      0\n",
            "Bwd Pkt Len Mean     0\n",
            "Bwd Pkt Len Std      0\n",
            "Flow Byts/s          0\n",
            "Flow Pkts/s          0\n",
            "Flow IAT Mean        0\n",
            "Flow IAT Std         0\n",
            "Flow IAT Max         0\n",
            "Flow IAT Min         0\n",
            "Fwd IAT Tot          0\n",
            "Fwd IAT Mean         0\n",
            "Fwd IAT Std          0\n",
            "Fwd IAT Max          0\n",
            "Fwd IAT Min          0\n",
            "Bwd IAT Tot          0\n",
            "Bwd IAT Mean         0\n",
            "Bwd IAT Std          0\n",
            "Bwd IAT Max          0\n",
            "Bwd IAT Min          0\n",
            "Fwd PSH Flags        0\n",
            "Bwd PSH Flags        0\n",
            "Fwd URG Flags        0\n",
            "Bwd URG Flags        0\n",
            "Fwd Header Len       0\n",
            "Bwd Header Len       0\n",
            "Fwd Pkts/s           0\n",
            "Bwd Pkts/s           0\n",
            "Pkt Len Min          0\n",
            "Pkt Len Max          0\n",
            "Pkt Len Mean         0\n",
            "Pkt Len Std          0\n",
            "Pkt Len Var          0\n",
            "FIN Flag Cnt         0\n",
            "SYN Flag Cnt         0\n",
            "RST Flag Cnt         0\n",
            "PSH Flag Cnt         0\n",
            "ACK Flag Cnt         0\n",
            "URG Flag Cnt         0\n",
            "CWE Flag Count       0\n",
            "ECE Flag Cnt         0\n",
            "Down/Up Ratio        0\n",
            "Pkt Size Avg         0\n",
            "Fwd Seg Size Avg     0\n",
            "Bwd Seg Size Avg     0\n",
            "Fwd Byts/b Avg       0\n",
            "Fwd Pkts/b Avg       0\n",
            "Fwd Blk Rate Avg     0\n",
            "Bwd Byts/b Avg       0\n",
            "Bwd Pkts/b Avg       0\n",
            "Bwd Blk Rate Avg     0\n",
            "Subflow Fwd Pkts     0\n",
            "Subflow Fwd Byts     0\n",
            "Subflow Bwd Pkts     0\n",
            "Subflow Bwd Byts     0\n",
            "Init Fwd Win Byts    0\n",
            "Init Bwd Win Byts    0\n",
            "Fwd Act Data Pkts    0\n",
            "Fwd Seg Size Min     0\n",
            "Active Mean          0\n",
            "Active Std           0\n",
            "Active Max           0\n",
            "Active Min           0\n",
            "Idle Mean            0\n",
            "Idle Std             0\n",
            "Idle Max             0\n",
            "Idle Min             0\n",
            "Label                0\n",
            "dtype: int64\n",
            "Any missing values? False\n",
            "Total number of missing values 0\n"
          ],
          "name": "stdout"
        }
      ]
    },
    {
      "cell_type": "code",
      "metadata": {
        "colab": {
          "base_uri": "https://localhost:8080/"
        },
        "id": "9XLM7p-Qygs3",
        "outputId": "eef0352e-e382-44ad-ab29-113783a32434"
      },
      "source": [
        "print(\"df.shape\",df.shape)\n"
      ],
      "execution_count": null,
      "outputs": [
        {
          "output_type": "stream",
          "text": [
            "df.shape (1048575, 80)\n"
          ],
          "name": "stdout"
        }
      ]
    },
    {
      "cell_type": "code",
      "metadata": {
        "id": "JCKDzbK3ylHP"
      },
      "source": [
        "from sklearn.preprocessing import LabelEncoder"
      ],
      "execution_count": null,
      "outputs": []
    },
    {
      "cell_type": "code",
      "metadata": {
        "id": "GamHjb0pynNM"
      },
      "source": [
        "le = LabelEncoder()\n",
        "y1 = le.fit_transform(arr_labels)"
      ],
      "execution_count": null,
      "outputs": []
    },
    {
      "cell_type": "code",
      "metadata": {
        "id": "l8idmySsypO0"
      },
      "source": [
        "encoded1=np.array(X_features)"
      ],
      "execution_count": null,
      "outputs": []
    },
    {
      "cell_type": "code",
      "metadata": {
        "id": "22pFr443yr7F"
      },
      "source": [
        "#Split Data\n",
        "X_train, X_test, Y_TRAIN, Y_TEST = train_test_split(encoded1, y1, test_size=0.50, shuffle= True)\n",
        "Y_TRAIN1=to_categorical(Y_TRAIN,num_classes=4)\n",
        "Y_TEST1=to_categorical(Y_TEST,num_classes=4)"
      ],
      "execution_count": null,
      "outputs": []
    },
    {
      "cell_type": "code",
      "metadata": {
        "colab": {
          "base_uri": "https://localhost:8080/",
          "height": 333
        },
        "id": "lHuedJjcyubI",
        "outputId": "88da8b9d-980e-4d04-9c29-309eac45ee93"
      },
      "source": [
        "# scatter plot of dataset, different color for each class\n",
        "def plot_dataset(X, y):\n",
        "\t# create scatter plot for samples from each class\n",
        "\tn_classes = len(unique(y))\n",
        "\tprint(\"n_classes\",n_classes)\n",
        "\tprint(\"y\",y)\n",
        "\tfor class_value in range(n_classes):\n",
        "\t\t# get row indexes for samples with this class\n",
        "\t\trow_ix = where(y == class_value)[0]\n",
        "\t\t# create scatter of these samples\n",
        "\t\tpyplot.scatter(X[row_ix, 0], X[row_ix, 1], label=str(class_value))\n",
        "\t# show a legend\n",
        "\tpyplot.legend()\n",
        "\tplt.title(\"Ploting of data points\")\n",
        "\tplt.ylabel('Labels')\n",
        "\tplt.xlabel('Data points')\n",
        "\t# show the plot\n",
        "\tpyplot.show()\n",
        "\n",
        "plot_dataset(encoded1, y1)"
      ],
      "execution_count": null,
      "outputs": [
        {
          "output_type": "stream",
          "text": [
            "n_classes 4\n",
            "y [0 0 0 ... 0 0 0]\n"
          ],
          "name": "stdout"
        },
        {
          "output_type": "display_data",
          "data": {
            "image/png": "[encoded data removed]",
            "text/plain": [
              "<Figure size 432x288 with 1 Axes>"
            ]
          },
          "metadata": {
            "tags": []
          }
        }
      ]
    },
    {
      "cell_type": "code",
      "metadata": {
        "id": "MDw0FG8jyxSd"
      },
      "source": [
        "from keras.layers import Input, Dense\n",
        "from keras.models import Model\n",
        "import numpy as np\n",
        "import pandas as pd\n",
        "import matplotlib.pyplot as plt\n",
        "from keras import backend as K"
      ],
      "execution_count": null,
      "outputs": []
    },
    {
      "cell_type": "code",
      "metadata": {
        "colab": {
          "base_uri": "https://localhost:8080/"
        },
        "id": "FKaDLftMrvDT",
        "outputId": "cd7860b1-b2f4-4931-ca68-8a806a3705c9"
      },
      "source": [
        "print(X_train.shape)\n",
        "print(X_test.shape)\n",
        "\n",
        "input_img= Input(shape=(76,))"
      ],
      "execution_count": null,
      "outputs": [
        {
          "output_type": "stream",
          "text": [
            "(524287, 76)\n",
            "(524288, 76)\n"
          ],
          "name": "stdout"
        }
      ]
    },
    {
      "cell_type": "code",
      "metadata": {
        "id": "JC2_bNGJr2K6"
      },
      "source": [
        "encoded = Dense(units=76, activation='relu')(input_img)\n",
        "encoded = Dense(units=100, activation='relu')(encoded)\n",
        "encoded = Dense(units=50, activation='relu')(encoded)\n",
        "encoded = Dense(units=25, activation='relu')(encoded)\n",
        "encoded = Dense(units=12, activation='relu')(encoded)\n",
        "encoded = Dense(units=6, activation='relu')(encoded)\n",
        "\n",
        "decoded = Dense(units=12, activation='relu')(encoded)\n",
        "decoded = Dense(units=25, activation='relu')(decoded)\n",
        "decoded = Dense(units=50, activation='relu')(decoded)\n",
        "decoded = Dense(units=100, activation='relu')(decoded)\n",
        "decoded = Dense(units=200, activation='relu')(decoded)\n",
        "decoded = Dense(units=76, activation='softmax')(decoded)\n",
        "\n",
        "autoencoder=Model(input_img, decoded)"
      ],
      "execution_count": null,
      "outputs": []
    },
    {
      "cell_type": "code",
      "metadata": {
        "id": "qcajn7DOr5tG"
      },
      "source": [
        "encoder = Model(input_img, encoded)"
      ],
      "execution_count": null,
      "outputs": []
    },
    {
      "cell_type": "code",
      "metadata": {
        "colab": {
          "base_uri": "https://localhost:8080/"
        },
        "id": "mpjpR2cMslbN",
        "outputId": "f61c4bad-10a7-4233-9db7-90af3da11f4d"
      },
      "source": [
        "autoencoder.summary()"
      ],
      "execution_count": null,
      "outputs": [
        {
          "output_type": "stream",
          "text": [
            "Model: \"model_4\"\n",
            "_________________________________________________________________\n",
            "Layer (type)                 Output Shape              Param #   \n",
            "=================================================================\n",
            "input_3 (InputLayer)         [(None, 76)]              0         \n",
            "_________________________________________________________________\n",
            "dense_48 (Dense)             (None, 76)                5852      \n",
            "_________________________________________________________________\n",
            "dense_49 (Dense)             (None, 100)               7700      \n",
            "_________________________________________________________________\n",
            "dense_50 (Dense)             (None, 50)                5050      \n",
            "_________________________________________________________________\n",
            "dense_51 (Dense)             (None, 25)                1275      \n",
            "_________________________________________________________________\n",
            "dense_52 (Dense)             (None, 12)                312       \n",
            "_________________________________________________________________\n",
            "dense_53 (Dense)             (None, 6)                 78        \n",
            "_________________________________________________________________\n",
            "dense_54 (Dense)             (None, 12)                84        \n",
            "_________________________________________________________________\n",
            "dense_55 (Dense)             (None, 25)                325       \n",
            "_________________________________________________________________\n",
            "dense_56 (Dense)             (None, 50)                1300      \n",
            "_________________________________________________________________\n",
            "dense_57 (Dense)             (None, 100)               5100      \n",
            "_________________________________________________________________\n",
            "dense_58 (Dense)             (None, 200)               20200     \n",
            "_________________________________________________________________\n",
            "dense_59 (Dense)             (None, 76)                15276     \n",
            "=================================================================\n",
            "Total params: 62,552\n",
            "Trainable params: 62,552\n",
            "Non-trainable params: 0\n",
            "_________________________________________________________________\n"
          ],
          "name": "stdout"
        }
      ]
    },
    {
      "cell_type": "code",
      "metadata": {
        "colab": {
          "base_uri": "https://localhost:8080/"
        },
        "id": "ZRtcfaFWsm6a",
        "outputId": "bb2276fb-1488-41ed-8c07-12932afce963"
      },
      "source": [
        "encoder.summary()"
      ],
      "execution_count": null,
      "outputs": [
        {
          "output_type": "stream",
          "text": [
            "Model: \"model_5\"\n",
            "_________________________________________________________________\n",
            "Layer (type)                 Output Shape              Param #   \n",
            "=================================================================\n",
            "input_3 (InputLayer)         [(None, 76)]              0         \n",
            "_________________________________________________________________\n",
            "dense_48 (Dense)             (None, 76)                5852      \n",
            "_________________________________________________________________\n",
            "dense_49 (Dense)             (None, 100)               7700      \n",
            "_________________________________________________________________\n",
            "dense_50 (Dense)             (None, 50)                5050      \n",
            "_________________________________________________________________\n",
            "dense_51 (Dense)             (None, 25)                1275      \n",
            "_________________________________________________________________\n",
            "dense_52 (Dense)             (None, 12)                312       \n",
            "_________________________________________________________________\n",
            "dense_53 (Dense)             (None, 6)                 78        \n",
            "=================================================================\n",
            "Total params: 20,267\n",
            "Trainable params: 20,267\n",
            "Non-trainable params: 0\n",
            "_________________________________________________________________\n"
          ],
          "name": "stdout"
        }
      ]
    },
    {
      "cell_type": "code",
      "metadata": {
        "id": "tNy5sbPaspFh"
      },
      "source": [
        "autoencoder.compile(optimizer='adam', loss='mse', metrics=['accuracy'])"
      ],
      "execution_count": null,
      "outputs": []
    },
    {
      "cell_type": "code",
      "metadata": {
        "colab": {
          "base_uri": "https://localhost:8080/"
        },
        "id": "cqk7YM98stjX",
        "outputId": "3966f1ab-55be-435d-84c5-01ca45d63f6b"
      },
      "source": [
        "#Training the autoencoder\n",
        "print(\"[INFO] training stacked autoencoder\")\n",
        "autoencoder.fit(X_train, X_train,\n",
        "                epochs=30,\n",
        "                batch_size=256,\n",
        "                shuffle=True,\n",
        "                validation_data=(X_test, X_test))\n",
        "encoder = Model(input_img, encoded)\n",
        "encoder.compile(optimizer='adam', loss='categorical_crossentropy', metrics=['accuracy'])"
      ],
      "execution_count": null,
      "outputs": [
        {
          "output_type": "stream",
          "text": [
            "[INFO] training stacked autoencoder\n",
            "Epoch 1/30\n",
            "2048/2048 [==============================] - 17s 7ms/step - loss: 0.7750 - accuracy: 0.4942 - val_loss: 0.8662 - val_accuracy: 0.7045\n",
            "Epoch 2/30\n",
            "2048/2048 [==============================] - 14s 7ms/step - loss: 0.7812 - accuracy: 0.5614 - val_loss: 0.8705 - val_accuracy: 0.4824\n",
            "Epoch 3/30\n",
            "2048/2048 [==============================] - 14s 7ms/step - loss: 0.7603 - accuracy: 0.4945 - val_loss: 0.8702 - val_accuracy: 0.5010\n",
            "Epoch 4/30\n",
            "2048/2048 [==============================] - 14s 7ms/step - loss: 0.7935 - accuracy: 0.5168 - val_loss: 0.8831 - val_accuracy: 0.5507\n",
            "Epoch 5/30\n",
            "2048/2048 [==============================] - 14s 7ms/step - loss: 0.7912 - accuracy: 0.5016 - val_loss: 0.8896 - val_accuracy: 0.5011\n",
            "Epoch 6/30\n",
            "2048/2048 [==============================] - 14s 7ms/step - loss: 0.7940 - accuracy: 0.4186 - val_loss: 0.8819 - val_accuracy: 0.5604\n",
            "Epoch 7/30\n",
            "2048/2048 [==============================] - 14s 7ms/step - loss: 0.7733 - accuracy: 0.5054 - val_loss: 0.8812 - val_accuracy: 0.5306\n",
            "Epoch 8/30\n",
            "2048/2048 [==============================] - 14s 7ms/step - loss: 0.7702 - accuracy: 0.5015 - val_loss: 0.8846 - val_accuracy: 0.4707\n",
            "Epoch 9/30\n",
            "2048/2048 [==============================] - 14s 7ms/step - loss: 0.7896 - accuracy: 0.4945 - val_loss: 0.8711 - val_accuracy: 0.4975\n",
            "Epoch 10/30\n",
            "2048/2048 [==============================] - 14s 7ms/step - loss: 0.7577 - accuracy: 0.5157 - val_loss: 0.8776 - val_accuracy: 0.5880\n",
            "Epoch 11/30\n",
            "2048/2048 [==============================] - 14s 7ms/step - loss: 0.7807 - accuracy: 0.5175 - val_loss: 0.8693 - val_accuracy: 0.5755\n",
            "Epoch 12/30\n",
            "2048/2048 [==============================] - 14s 7ms/step - loss: 0.7721 - accuracy: 0.5212 - val_loss: 0.8694 - val_accuracy: 0.4765\n",
            "Epoch 13/30\n",
            "2048/2048 [==============================] - 14s 7ms/step - loss: 0.7683 - accuracy: 0.5154 - val_loss: 0.8693 - val_accuracy: 0.5099\n",
            "Epoch 14/30\n",
            "2048/2048 [==============================] - 14s 7ms/step - loss: 0.7655 - accuracy: 0.5261 - val_loss: 0.8692 - val_accuracy: 0.5615\n",
            "Epoch 15/30\n",
            "2048/2048 [==============================] - 14s 7ms/step - loss: 0.7595 - accuracy: 0.5287 - val_loss: 0.8654 - val_accuracy: 0.5802\n",
            "Epoch 16/30\n",
            "2048/2048 [==============================] - 14s 7ms/step - loss: 0.7534 - accuracy: 0.6324 - val_loss: 0.8652 - val_accuracy: 0.5916\n",
            "Epoch 17/30\n",
            "2048/2048 [==============================] - 14s 7ms/step - loss: 0.7632 - accuracy: 0.6438 - val_loss: 0.8652 - val_accuracy: 0.6111\n",
            "Epoch 18/30\n",
            "2048/2048 [==============================] - 14s 7ms/step - loss: 0.7580 - accuracy: 0.6446 - val_loss: 0.8652 - val_accuracy: 0.5937\n",
            "Epoch 19/30\n",
            "2048/2048 [==============================] - 14s 7ms/step - loss: 0.7583 - accuracy: 0.6468 - val_loss: 0.8656 - val_accuracy: 0.6015\n",
            "Epoch 20/30\n",
            "2048/2048 [==============================] - 14s 7ms/step - loss: 0.7694 - accuracy: 0.6433 - val_loss: 0.8657 - val_accuracy: 0.6923\n",
            "Epoch 21/30\n",
            "2048/2048 [==============================] - 14s 7ms/step - loss: 0.7649 - accuracy: 0.6429 - val_loss: 0.8660 - val_accuracy: 0.6754\n",
            "Epoch 22/30\n",
            "2048/2048 [==============================] - 14s 7ms/step - loss: 0.7603 - accuracy: 0.6496 - val_loss: 0.8659 - val_accuracy: 0.6015\n",
            "Epoch 23/30\n",
            "2048/2048 [==============================] - 14s 7ms/step - loss: 0.7549 - accuracy: 0.6516 - val_loss: 0.8657 - val_accuracy: 0.6688\n",
            "Epoch 24/30\n",
            "2048/2048 [==============================] - 14s 7ms/step - loss: 0.7688 - accuracy: 0.6553 - val_loss: 0.8654 - val_accuracy: 0.6112\n",
            "Epoch 25/30\n",
            "2048/2048 [==============================] - 14s 7ms/step - loss: 0.7787 - accuracy: 0.6531 - val_loss: 0.8655 - val_accuracy: 0.6185\n",
            "Epoch 26/30\n",
            "2048/2048 [==============================] - 14s 7ms/step - loss: 0.7811 - accuracy: 0.6524 - val_loss: 0.8679 - val_accuracy: 0.7017\n",
            "Epoch 27/30\n",
            "2048/2048 [==============================] - 14s 7ms/step - loss: 0.7803 - accuracy: 0.6520 - val_loss: 0.8668 - val_accuracy: 0.6521\n",
            "Epoch 28/30\n",
            "2048/2048 [==============================] - 14s 7ms/step - loss: 0.7626 - accuracy: 0.6691 - val_loss: 0.8664 - val_accuracy: 0.6222\n",
            "Epoch 29/30\n",
            "2048/2048 [==============================] - 14s 7ms/step - loss: 0.7695 - accuracy: 0.6720 - val_loss: 0.8678 - val_accuracy: 0.6565\n",
            "Epoch 30/30\n",
            "2048/2048 [==============================] - 14s 7ms/step - loss: 0.7639 - accuracy: 0.6625 - val_loss: 0.8715 - val_accuracy: 0.5626\n"
          ],
          "name": "stdout"
        }
      ]
    },
    {
      "cell_type": "code",
      "metadata": {
        "colab": {
          "base_uri": "https://localhost:8080/"
        },
        "id": "3Sq_kL1hs0pZ",
        "outputId": "4c54ee5b-1f61-4c80-c820-b76bb2c85a1a"
      },
      "source": [
        "print(\"[INFO] storing data from trained autoencoder\")\n",
        "pre_test=encoder.predict(X_test)\n",
        "print(pre_test.shape)\n",
        "pre_test=np.reshape(pre_test,(pre_test.shape[0],pre_test.shape[1],1))\n",
        "print(pre_test.shape)\n"
      ],
      "execution_count": null,
      "outputs": [
        {
          "output_type": "stream",
          "text": [
            "[INFO] storing data from trained autoencoder\n",
            "(524288, 6)\n",
            "(524288, 6, 1)\n"
          ],
          "name": "stdout"
        }
      ]
    },
    {
      "cell_type": "code",
      "metadata": {
        "colab": {
          "base_uri": "https://localhost:8080/"
        },
        "id": "SY3TOR4Uuk58",
        "outputId": "e0fe264d-dc98-4d8c-c825-473d57bef3c6"
      },
      "source": [
        "pre_train=encoder.predict(X_train)\n",
        "print(pre_train.shape)\n",
        "pre_train=np.reshape(pre_train,(pre_train.shape[0],pre_train.shape[1],1))\n",
        "print(pre_train.shape)"
      ],
      "execution_count": null,
      "outputs": [
        {
          "output_type": "stream",
          "text": [
            "(524287, 6)\n",
            "(524287, 6, 1)\n"
          ],
          "name": "stdout"
        }
      ]
    },
    {
      "cell_type": "code",
      "metadata": {
        "id": "DxxH6mPvuvWc"
      },
      "source": [
        "#BILSTM \n",
        "model = Sequential()\n",
        "\n",
        "model.add(LSTM(128,input_shape=(pre_train.shape[1],pre_train.shape[2]),return_sequences=True))\n",
        "model.add(Bidirectional(LSTM(64,return_sequences=True)))\n",
        "model.add(Dropout(0.25))\n",
        "model.add(Bidirectional(LSTM(64,return_sequences=True)))\n",
        "model.add(Dropout(0.20))\n",
        "model.add(Bidirectional(LSTM(64,return_sequences=True)))\n",
        "model.add(Dropout(0.25))\n",
        "model.add(Bidirectional(LSTM(64,return_sequences=True)))\n",
        "model.add(Dropout(0.20))\n",
        "model.add(Bidirectional(LSTM(64,return_sequences=True)))\n",
        "model.add(Dropout(0.25))\n",
        "model.add(Bidirectional(LSTM(64,return_sequences=True)))\n",
        "model.add(Dropout(0.20))\n",
        "model.add(Bidirectional(LSTM(64,return_sequences=True)))\n",
        "model.add(Dropout(0.25))\n",
        "model.add(Bidirectional(LSTM(64)))\n",
        "model.add(Dropout(0.20))\n",
        "model.add(Dense(4, activation='softmax'))"
      ],
      "execution_count": null,
      "outputs": []
    },
    {
      "cell_type": "code",
      "metadata": {
        "colab": {
          "base_uri": "https://localhost:8080/"
        },
        "id": "C7QmTKy4u7AJ",
        "outputId": "2656a375-b0f0-4961-a459-3597997448f3"
      },
      "source": [
        "print(model.summary())"
      ],
      "execution_count": null,
      "outputs": [
        {
          "output_type": "stream",
          "text": [
            "Model: \"sequential\"\n",
            "_________________________________________________________________\n",
            "Layer (type)                 Output Shape              Param #   \n",
            "=================================================================\n",
            "lstm (LSTM)                  (None, 6, 128)            66560     \n",
            "_________________________________________________________________\n",
            "bidirectional (Bidirectional (None, 6, 128)            98816     \n",
            "_________________________________________________________________\n",
            "dropout (Dropout)            (None, 6, 128)            0         \n",
            "_________________________________________________________________\n",
            "bidirectional_1 (Bidirection (None, 6, 128)            98816     \n",
            "_________________________________________________________________\n",
            "dropout_1 (Dropout)          (None, 6, 128)            0         \n",
            "_________________________________________________________________\n",
            "bidirectional_2 (Bidirection (None, 6, 128)            98816     \n",
            "_________________________________________________________________\n",
            "dropout_2 (Dropout)          (None, 6, 128)            0         \n",
            "_________________________________________________________________\n",
            "bidirectional_3 (Bidirection (None, 6, 128)            98816     \n",
            "_________________________________________________________________\n",
            "dropout_3 (Dropout)          (None, 6, 128)            0         \n",
            "_________________________________________________________________\n",
            "bidirectional_4 (Bidirection (None, 6, 128)            98816     \n",
            "_________________________________________________________________\n",
            "dropout_4 (Dropout)          (None, 6, 128)            0         \n",
            "_________________________________________________________________\n",
            "bidirectional_5 (Bidirection (None, 6, 128)            98816     \n",
            "_________________________________________________________________\n",
            "dropout_5 (Dropout)          (None, 6, 128)            0         \n",
            "_________________________________________________________________\n",
            "bidirectional_6 (Bidirection (None, 6, 128)            98816     \n",
            "_________________________________________________________________\n",
            "dropout_6 (Dropout)          (None, 6, 128)            0         \n",
            "_________________________________________________________________\n",
            "bidirectional_7 (Bidirection (None, 128)               98816     \n",
            "_________________________________________________________________\n",
            "dropout_7 (Dropout)          (None, 128)               0         \n",
            "_________________________________________________________________\n",
            "dense_60 (Dense)             (None, 4)                 516       \n",
            "=================================================================\n",
            "Total params: 857,604\n",
            "Trainable params: 857,604\n",
            "Non-trainable params: 0\n",
            "_________________________________________________________________\n",
            "None\n"
          ],
          "name": "stdout"
        }
      ]
    },
    {
      "cell_type": "code",
      "metadata": {
        "id": "PZ-wxbJTvDhr"
      },
      "source": [
        "#Compile\n",
        "model.compile(loss='categorical_crossentropy', optimizer='adam', metrics=['accuracy'])"
      ],
      "execution_count": null,
      "outputs": []
    },
    {
      "cell_type": "code",
      "metadata": {
        "colab": {
          "base_uri": "https://localhost:8080/"
        },
        "id": "iDDp9-4PvKx3",
        "outputId": "f459cdf6-ec43-4f40-aca9-b9dd613e408f"
      },
      "source": [
        "#Fit\n",
        "checkpoint = ModelCheckpoint(\"check.h5\", monitor='loss', verbose=1, save_best_only=True, mode='min')\n",
        "callbacks_list = [checkpoint,earlystopping] \n",
        "print(\"[INFO] training BiLSTM network\")\n",
        "model.fit(pre_train, Y_TRAIN1,batch_size=64, epochs=1,shuffle=True, verbose=1,callbacks=callbacks_list,validation_data=(pre_test,Y_TEST1))\n"
      ],
      "execution_count": null,
      "outputs": [
        {
          "output_type": "stream",
          "text": [
            "[INFO] training BiLSTM network\n",
            "8192/8192 [==============================] - 666s 75ms/step - loss: 0.0131 - accuracy: 0.9994 - val_loss: 0.0052 - val_accuracy: 0.9994\n",
            "\n",
            "Epoch 00001: loss improved from inf to 0.00619, saving model to check.h5\n"
          ],
          "name": "stdout"
        },
        {
          "output_type": "execute_result",
          "data": {
            "text/plain": [
              "<tensorflow.python.keras.callbacks.History at 0x7f9bb5d82810>"
            ]
          },
          "metadata": {
            "tags": []
          },
          "execution_count": 60
        }
      ]
    },
    {
      "cell_type": "code",
      "metadata": {
        "colab": {
          "base_uri": "https://localhost:8080/"
        },
        "id": "2fO7Ph_rvQcI",
        "outputId": "6a68ee38-7e8c-4c04-c579-340ff43c373c"
      },
      "source": [
        "yhat_classes = model.predict_classes(pre_test, verbose=1)\n",
        "print(\"yhat_classes\",yhat_classes.shape)"
      ],
      "execution_count": null,
      "outputs": [
        {
          "output_type": "stream",
          "text": [
            "16384/16384 [==============================] - 238s 14ms/step\n",
            "yhat_classes (524288,)\n"
          ],
          "name": "stdout"
        }
      ]
    },
    {
      "cell_type": "code",
      "metadata": {
        "id": "ThDvQs6hx9RW"
      },
      "source": [
        "\n",
        "from sklearn.metrics import classification_report, confusion_matrix\n",
        "import itertools  "
      ],
      "execution_count": null,
      "outputs": []
    },
    {
      "cell_type": "code",
      "metadata": {
        "colab": {
          "base_uri": "https://localhost:8080/"
        },
        "id": "7Jmxw--Uzg7t",
        "outputId": "87de0184-9fa1-4916-8267-de02c284f433"
      },
      "source": [
        "print('Confusion Matrix Calculation')\n",
        "cm=confusion_matrix(Y_TEST, yhat_classes)\n",
        "print(\"Confusion Matrix\",cm)"
      ],
      "execution_count": null,
      "outputs": [
        {
          "output_type": "stream",
          "text": [
            "Confusion Matrix Calculation\n",
            "Confusion Matrix [[523998      0      0      0]\n",
            " [   193      0      0      0]\n",
            " [    70      0      0      0]\n",
            " [    27      0      0      0]]\n"
          ],
          "name": "stdout"
        }
      ]
    },
    {
      "cell_type": "code",
      "metadata": {
        "colab": {
          "base_uri": "https://localhost:8080/",
          "height": 416
        },
        "id": "U6Q22xgezjYO",
        "outputId": "cc08bfe8-b61a-408c-e5e9-5787a4cd508c"
      },
      "source": [
        "def plot_confusion_matrix(cm, classes,\n",
        "                        normalize=False,\n",
        "                        title='Confusion matrix',\n",
        "                        cmap=plt.cm.Blues):\n",
        "    \"\"\"\n",
        "    This function prints and plots the confusion matrix.\n",
        "    Normalization can be applied by setting `normalize=True`.\n",
        "    \"\"\"\n",
        "    plt.imshow(cm, interpolation='nearest', cmap=cmap)\n",
        "    plt.title(title)\n",
        "    plt.colorbar()\n",
        "    tick_marks = np.arange(len(classes))\n",
        "    plt.xticks(tick_marks, classes, rotation=45)\n",
        "    plt.yticks(tick_marks, classes)\n",
        "\n",
        "    if normalize:\n",
        "        cm = cm.astype('float') / cm.sum(axis=1)[:, np.newaxis]\n",
        "        print(\"Normalized confusion matrix\")\n",
        "    else:\n",
        "        print('Confusion matrix, without normalization')\n",
        "\n",
        "    print(cm)\n",
        "\n",
        "    thresh = cm.max() / 2.\n",
        "    for i, j in itertools.product(range(cm.shape[0]), range(cm.shape[1])):\n",
        "        plt.text(j, i, cm[i, j],\n",
        "            horizontalalignment=\"center\",\n",
        "            color=\"white\" if cm[i, j] > thresh else \"black\")\n",
        "\n",
        "    plt.tight_layout()\n",
        "    plt.ylabel('True label')\n",
        "    plt.xlabel('Predicted label')\n",
        "    plt.show()\n",
        "cm_plot_labels = ['BruteForceWeb','BruteForceXSS','SQLInjection','Benign']\n",
        "plot_confusion_matrix(cm=cm, classes=cm_plot_labels, title='Confusion Matrix')\n",
        "print(\"END OF CONFUSION ALGORITHM\") "
      ],
      "execution_count": null,
      "outputs": [
        {
          "output_type": "stream",
          "text": [
            "Confusion matrix, without normalization\n",
            "[[523998      0      0      0]\n",
            " [   193      0      0      0]\n",
            " [    70      0      0      0]\n",
            " [    27      0      0      0]]\n"
          ],
          "name": "stdout"
        },
        {
          "output_type": "display_data",
          "data": {
            "image/png": "[encoded data removed]",
            "text/plain": [
              "<Figure size 432x288 with 2 Axes>"
            ]
          },
          "metadata": {
            "tags": []
          }
        },
        {
          "output_type": "stream",
          "text": [
            "END OF CONFUSION ALGORITHM\n"
          ],
          "name": "stdout"
        }
      ]
    },
    {
      "cell_type": "code",
      "metadata": {
        "colab": {
          "base_uri": "https://localhost:8080/"
        },
        "id": "9rsr2RdNzu5B",
        "outputId": "b7ae9238-af8b-42c9-ee23-fd7db3600785"
      },
      "source": [
        "accuracy = accuracy_score(Y_TEST, yhat_classes)\n",
        "print('Testing Accuracy: %f' % accuracy)\n",
        "precision = precision_score(Y_TEST, yhat_classes,average='micro')\n",
        "print('Testing Precision: %f' % precision)\n",
        "recall = recall_score(Y_TEST, yhat_classes,average='micro')\n",
        "print('Testing Recall: %f' % recall)\n",
        "f1 = f1_score(Y_TEST, yhat_classes,average='micro')\n",
        "print('Testing F1 score: %f' % f1)\n"
      ],
      "execution_count": null,
      "outputs": [
        {
          "output_type": "stream",
          "text": [
            "Testing Accuracy: 0.999447\n",
            "Testing Precision: 0.999447\n",
            "Testing Recall: 0.999447\n",
            "Testing F1 score: 0.999447\n"
          ],
          "name": "stdout"
        }
      ]
    },
    {
      "cell_type": "code",
      "metadata": {
        "id": "1-XfYtE0z8P3"
      },
      "source": [
        ""
      ],
      "execution_count": null,
      "outputs": []
    }
  ]
}