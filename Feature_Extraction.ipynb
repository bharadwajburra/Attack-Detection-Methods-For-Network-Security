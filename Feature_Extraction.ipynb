{
  "nbformat": 4,
  "nbformat_minor": 0,
  "metadata": {
    "colab": {
      "name": "Feature Extraction.ipynb",
      "provenance": [],
      "toc_visible": true
    },
    "kernelspec": {
      "name": "python3",
      "display_name": "Python 3"
    },
    "language_info": {
      "name": "python"
    },
    "accelerator": "GPU"
  },
  "cells": [
    {
      "cell_type": "code",
      "metadata": {
        "colab": {
          "base_uri": "https://localhost:8080/"
        },
        "id": "pm_wj2fctiQF",
        "outputId": "900d1c92-39d1-449e-8b69-58b0297c0fac"
      },
      "source": [
        "from time import sleep\n",
        "import string\n",
        "from textblob import TextBlob\n",
        "from nltk.corpus import stopwords\n",
        "from nltk.stem.wordnet import WordNetLemmatizer\n",
        "import nltk\n",
        "import re\n",
        "\n",
        "from glob import glob\n",
        "import numpy as np\n",
        "from tqdm import tqdm\n",
        "from keras.utils import to_categorical\n",
        "from sklearn.feature_extraction.stop_words import ENGLISH_STOP_WORDS\n",
        "from nltk.stem import PorterStemmer\n",
        "from nltk.stem import WordNetLemmatizer\n",
        "from keras.layers import Bidirectional, GlobalMaxPool1D\n",
        "from sklearn.preprocessing import StandardScaler, RobustScaler\n",
        "import os, re, csv, math, codecs\n",
        "\n",
        "from numpy import unique\n",
        "from numpy import hstack\n",
        "from numpy import vstack\n",
        "from numpy import where\n",
        "from matplotlib import pyplot\n",
        "from sklearn.datasets import make_blobs\n",
        "\n",
        "\n",
        "from keras.models import Sequential  \n",
        "from keras.layers.core import Dense, Activation  \n",
        "from keras.layers import LSTM, GRU, SimpleRNN, Bidirectional\n",
        "from keras.layers import *\n",
        "from keras.callbacks import ReduceLROnPlateau, ModelCheckpoint, EarlyStopping\n",
        "import matplotlib.pyplot as plt\n",
        "\n",
        "plt.style.use('ggplot')\n",
        "from sklearn.metrics import *\n",
        "import xgboost as xgb\n",
        "import pickle\n",
        "from sklearn.preprocessing import StandardScaler,MinMaxScaler\n",
        "import pandas as pd  \n",
        "from random import random\n",
        "from keras.utils import to_categorical\n",
        "import numpy as np\n",
        "import os\n",
        "import psutil\n",
        "from sklearn.model_selection import train_test_split\n",
        "from keras.utils import *\n",
        "from imblearn.metrics import sensitivity_specificity_support\n",
        "from sklearn.model_selection import train_test_split\n",
        "from matplotlib import pyplot\n",
        "from tqdm import tqdm\n",
        "import pandas as pd\n",
        "from sklearn import preprocessing\n",
        "import gc\n",
        "gc.collect()\n",
        "from time import sleep\n",
        "#print(list(psutil.virtual_memory())[0:2])\n",
        "import pandas as pd\n",
        "import matplotlib.pyplot as plt\n",
        "from sklearn.preprocessing import LabelEncoder, StandardScaler\n",
        "from sklearn.decomposition import PCA\n",
        "from sklearn.model_selection import train_test_split\n",
        "import warnings\n",
        "\n",
        "import pandas as pd\n",
        "import numpy as np\n",
        "from sklearn.feature_selection import SelectKBest\n",
        "from sklearn.feature_selection import chi2\n",
        "warnings.filterwarnings(\"ignore\")\n",
        "\n"
      ],
      "execution_count": null,
      "outputs": [
        {
          "output_type": "stream",
          "text": [
            "/usr/local/lib/python3.7/dist-packages/sklearn/utils/deprecation.py:144: FutureWarning: The sklearn.feature_extraction.stop_words module is  deprecated in version 0.22 and will be removed in version 0.24. The corresponding classes / functions should instead be imported from sklearn.feature_extraction.text. Anything that cannot be imported from sklearn.feature_extraction.text is now part of the private API.\n",
            "  warnings.warn(message, FutureWarning)\n",
            "/usr/local/lib/python3.7/dist-packages/sklearn/externals/six.py:31: FutureWarning: The module is deprecated in version 0.21 and will be removed in version 0.23 since we've dropped support for Python 2.7. Please rely on the official version of six (https://pypi.org/project/six/).\n",
            "  \"(https://pypi.org/project/six/).\", FutureWarning)\n",
            "/usr/local/lib/python3.7/dist-packages/sklearn/utils/deprecation.py:144: FutureWarning: The sklearn.neighbors.base module is  deprecated in version 0.22 and will be removed in version 0.24. The corresponding classes / functions should instead be imported from sklearn.neighbors. Anything that cannot be imported from sklearn.neighbors is now part of the private API.\n",
            "  warnings.warn(message, FutureWarning)\n",
            "/usr/local/lib/python3.7/dist-packages/sklearn/utils/deprecation.py:144: FutureWarning: The sklearn.metrics.classification module is  deprecated in version 0.22 and will be removed in version 0.24. The corresponding classes / functions should instead be imported from sklearn.metrics. Anything that cannot be imported from sklearn.metrics is now part of the private API.\n",
            "  warnings.warn(message, FutureWarning)\n"
          ],
          "name": "stderr"
        }
      ]
    },
    {
      "cell_type": "code",
      "metadata": {
        "colab": {
          "base_uri": "https://localhost:8080/"
        },
        "id": "m8egOp3iuFqR",
        "outputId": "08dc0139-549b-40ac-ce7e-7724f15f4af1"
      },
      "source": [
        "!gdown --id 1MjEK-6t0-2yMbAqSKAV5sYkbo8G47CxI&export=download"
      ],
      "execution_count": null,
      "outputs": [
        {
          "output_type": "stream",
          "text": [
            "Downloading...\n",
            "From: https://drive.google.com/uc?id=1MjEK-6t0-2yMbAqSKAV5sYkbo8G47CxI\n",
            "To: /content/Friday-23-02-2018_TrafficForML_CICFlowMeter.csv\n",
            "383MB [00:01, 204MB/s]\n"
          ],
          "name": "stdout"
        }
      ]
    },
    {
      "cell_type": "code",
      "metadata": {
        "colab": {
          "base_uri": "https://localhost:8080/"
        },
        "id": "UHpKzOlU9DZj",
        "outputId": "f4089e96-7d37-4519-abfe-27c7c4857af1"
      },
      "source": [
        "MyList = []\n",
        "for chunk in \tpd.read_csv('Friday-23-02-2018_TrafficForML_CICFlowMeter.csv',delimiter=',', chunksize=10000):\n",
        "  print(len(MyList))\n",
        "  chunk.fillna(chunk.mean())\n",
        "  chunk[chunk==np.inf]=np.nan\n",
        "  chunk.fillna(chunk.mean(), inplace=True)\n",
        "  MyList.append(chunk)\n",
        "df = pd.concat(MyList, axis=0)\n",
        "print(df.shape)"
      ],
      "execution_count": null,
      "outputs": [
        {
          "output_type": "stream",
          "text": [
            "0\n",
            "1\n",
            "2\n",
            "3\n",
            "4\n",
            "5\n",
            "6\n",
            "7\n",
            "8\n",
            "9\n",
            "10\n",
            "11\n",
            "12\n",
            "13\n",
            "14\n",
            "15\n",
            "16\n",
            "17\n",
            "18\n",
            "19\n",
            "20\n",
            "21\n",
            "22\n",
            "23\n",
            "24\n",
            "25\n",
            "26\n",
            "27\n",
            "28\n",
            "29\n",
            "30\n",
            "31\n",
            "32\n",
            "33\n",
            "34\n",
            "35\n",
            "36\n",
            "37\n",
            "38\n",
            "39\n",
            "40\n",
            "41\n",
            "42\n",
            "43\n",
            "44\n",
            "45\n",
            "46\n",
            "47\n",
            "48\n",
            "49\n",
            "50\n",
            "51\n",
            "52\n",
            "53\n",
            "54\n",
            "55\n",
            "56\n",
            "57\n",
            "58\n",
            "59\n",
            "60\n",
            "61\n",
            "62\n",
            "63\n",
            "64\n",
            "65\n",
            "66\n",
            "67\n",
            "68\n",
            "69\n",
            "70\n",
            "71\n",
            "72\n",
            "73\n",
            "74\n",
            "75\n",
            "76\n",
            "77\n",
            "78\n",
            "79\n",
            "80\n",
            "81\n",
            "82\n",
            "83\n",
            "84\n",
            "85\n",
            "86\n",
            "87\n",
            "88\n",
            "89\n",
            "90\n",
            "91\n",
            "92\n",
            "93\n",
            "94\n",
            "95\n",
            "96\n",
            "97\n",
            "98\n",
            "99\n",
            "100\n",
            "101\n",
            "102\n",
            "103\n",
            "104\n",
            "(1048575, 80)\n"
          ],
          "name": "stdout"
        }
      ]
    },
    {
      "cell_type": "code",
      "metadata": {
        "id": "-DqMRp0hw55M"
      },
      "source": [
        "# df.fillna(df.mean())\n",
        "# df[df==np.inf]=np.nan\n",
        "# df.fillna(df.mean(), inplace=True)\n",
        "df.to_pickle('DataFrame.pkl')    "
      ],
      "execution_count": null,
      "outputs": []
    },
    {
      "cell_type": "code",
      "metadata": {
        "colab": {
          "base_uri": "https://localhost:8080/"
        },
        "id": "vNoTmy2GxT7H",
        "outputId": "ec5c8b2f-90ca-4329-f6da-b0622e70d39f"
      },
      "source": [
        "pd.set_option('display.max_columns', None)  # or 1000\n",
        "pd.set_option('display.max_rows', None)  # or 1000\n",
        "pd.set_option('display.max_colwidth', -1) \n",
        "\n",
        "df = df.rename(columns={'Pkt Size Avg':'Pkt_Size_Avg','Subflow Fwd Byts':'Subflow_Fwd_Byts','TotLen Fwd Pkts':'TotLen_Fwd_Pkts','Fwd Seg Size Avg':'Fwd_Seg_Size_Avg','Fwd Pkt Len Mean':'Fwd_Pkt_Len_Mean','Bwd Seg Size Avg':\"Bwd_Seg_Size_Avg\",'Bwd Pkt Len Mean':'Bwd_Pkt_Len_Mean','RST Flag Cnt':'RST_Flag_Cnt',\"ECE Flag Cnt\":\"ECE_Flag_Cnt\",'Fwd Pkt Len Min':'Fwd_Pkt_Len_Min','Pkt Len Min':'Pkt_Len_Min','Idle Std':'Idle_Std', 'Flow IAT Min': 'Flow_IAT_Min', 'Flow Duration': 'Flow_Duration','Bwd Pkts/s':'Bwd_Pkts_s', \"Dst Port\":'Dst_Port', \"Fwd Seg Size Min\":'Fwd_Seg_Size_Min', \"Init Fwd Win Byts\":\"Init_Fwd_Win_Byts\", \"Init Bwd Win Byts\":\"Init_Bwd_Win_Byts\", \"Flow Pkts/s\":\"Flow_Pkts_s\", \"Fwd Pkts/s\":\"Fwd_Pkts_s\", \"PSH Flag Cnt\":\"PSH_Flag_Cnt\",\"Tot Fwd Pkts\":\"Tot_Fwd_Pkts\",\"Tot Bwd Pkts\":\"Tot_Bwd_Pkts\",\"TotLen Fwd Pkts\":\"TotLen_Fwd_Pkts\",\"TotLen Bwd Pkts\":\"TotLen_Bwd_Pkts\",\"Flow Byts/s\":\"Flow_Byts_s\",\"Flow IAT Mean\":\"Flow_IAT_Mean\",\"Flow IAT Std\":\"Flow_IAT_Std\",\"Flow IAT Max\":\"Flow_IAT_Max\",\"Flow IAT Tot\":\"Flow_IAT_Tot\",\"Fwd IAT Tot\":\"Fwd_IAT_Tot\",\"Fwd IAT Mean\":\"Fwd_IAT_Mean\",\"Fwd IAT Std\":\"Fwd_IAT_Std\",\"Fwd IAT Max\":\"Fwd_IAT_Max\",\"Fwd IAT Min\":\"Fwd_IAT_Min\",   \"Bwd IAT Tot\":\"Bwd_IAT_Tot\",\"Bwd IAT Mean\":\"Bwd_IAT_Mean\",\"Bwd IAT Std\":\"Bwd_IAT_Std\",\"Bwd IAT Max\":\"Bwd_IAT_Max\",\"Bwd IAT Min\":\"Bwd_IAT_Min\",\"Fwd Header Len\":\"Fwd_Header_Len\"})\n",
        "\n",
        "#df.replace([np.inf, -np.inf], np.nan, inplace=True)\n",
        "df['Label']=df['Label'].replace({'Brute Force -Web': 'BruteForceWeb','Brute Force -XSS':'BruteForceXSS','SQL Injection':'SQLInjection'})\n",
        "\n",
        "\n",
        "\n",
        "df.replace([np.inf, -np.inf], np.nan, inplace=True)\n",
        "\n",
        "encoder = LabelEncoder()\n",
        "new_df = df['Label'].copy()\n",
        "#print(\"new_df\",new_df)\n",
        "#print(\"new_df\",new_df['Label'])\n",
        "\n",
        "# Now apply the transformation to all the columns:\n",
        "for col in df.columns:\n",
        "    print(col)\n",
        "    if col==\"Label\":\n",
        "    \tdf[col] = encoder.fit_transform(df[col])\n"
      ],
      "execution_count": null,
      "outputs": [
        {
          "output_type": "stream",
          "text": [
            "Dst_Port\n",
            "Protocol\n",
            "Timestamp\n",
            "Flow_Duration\n",
            "Tot_Fwd_Pkts\n",
            "Tot_Bwd_Pkts\n",
            "TotLen_Fwd_Pkts\n",
            "TotLen_Bwd_Pkts\n",
            "Fwd Pkt Len Max\n",
            "Fwd_Pkt_Len_Min\n",
            "Fwd_Pkt_Len_Mean\n",
            "Fwd Pkt Len Std\n",
            "Bwd Pkt Len Max\n",
            "Bwd Pkt Len Min\n",
            "Bwd_Pkt_Len_Mean\n",
            "Bwd Pkt Len Std\n",
            "Flow_Byts_s\n",
            "Flow_Pkts_s\n",
            "Flow_IAT_Mean\n",
            "Flow_IAT_Std\n",
            "Flow_IAT_Max\n",
            "Flow_IAT_Min\n",
            "Fwd_IAT_Tot\n",
            "Fwd_IAT_Mean\n",
            "Fwd_IAT_Std\n",
            "Fwd_IAT_Max\n",
            "Fwd_IAT_Min\n",
            "Bwd_IAT_Tot\n",
            "Bwd_IAT_Mean\n",
            "Bwd_IAT_Std\n",
            "Bwd_IAT_Max\n",
            "Bwd_IAT_Min\n",
            "Fwd PSH Flags\n",
            "Bwd PSH Flags\n",
            "Fwd URG Flags\n",
            "Bwd URG Flags\n",
            "Fwd_Header_Len\n",
            "Bwd Header Len\n",
            "Fwd_Pkts_s\n",
            "Bwd_Pkts_s\n",
            "Pkt_Len_Min\n",
            "Pkt Len Max\n",
            "Pkt Len Mean\n",
            "Pkt Len Std\n",
            "Pkt Len Var\n",
            "FIN Flag Cnt\n",
            "SYN Flag Cnt\n",
            "RST_Flag_Cnt\n",
            "PSH_Flag_Cnt\n",
            "ACK Flag Cnt\n",
            "URG Flag Cnt\n",
            "CWE Flag Count\n",
            "ECE_Flag_Cnt\n",
            "Down/Up Ratio\n",
            "Pkt_Size_Avg\n",
            "Fwd_Seg_Size_Avg\n",
            "Bwd_Seg_Size_Avg\n",
            "Fwd Byts/b Avg\n",
            "Fwd Pkts/b Avg\n",
            "Fwd Blk Rate Avg\n",
            "Bwd Byts/b Avg\n",
            "Bwd Pkts/b Avg\n",
            "Bwd Blk Rate Avg\n",
            "Subflow Fwd Pkts\n",
            "Subflow_Fwd_Byts\n",
            "Subflow Bwd Pkts\n",
            "Subflow Bwd Byts\n",
            "Init_Fwd_Win_Byts\n",
            "Init_Bwd_Win_Byts\n",
            "Fwd Act Data Pkts\n",
            "Fwd_Seg_Size_Min\n",
            "Active Mean\n",
            "Active Std\n",
            "Active Max\n",
            "Active Min\n",
            "Idle Mean\n",
            "Idle_Std\n",
            "Idle Max\n",
            "Idle Min\n",
            "Label\n"
          ],
          "name": "stdout"
        }
      ]
    },
    {
      "cell_type": "code",
      "metadata": {
        "colab": {
          "base_uri": "https://localhost:8080/",
          "height": 945
        },
        "id": "RtOWwRpL_VGG",
        "outputId": "963591a8-4e2a-4a1c-d1c8-19a4b673a344"
      },
      "source": [
        "X = df.iloc[:,4:79]  #independent columns\n",
        "X1=df.iloc[:,4:79]\n",
        "from sklearn.preprocessing import StandardScaler,MinMaxScaler\n",
        "min_max_scaler = preprocessing.MinMaxScaler()\n",
        "#x = X.astype(float)\n",
        "X = min_max_scaler.fit_transform(X)\n",
        "y = df.iloc[:,-1]    #target column i.e price range#apply SelectKBest class to extract top 10 best features\n",
        "bestfeatures = SelectKBest(score_func=chi2, k=20)\n",
        "fit = bestfeatures.fit(X,y)\n",
        "dfscores = pd.DataFrame(fit.scores_)\n",
        "dfcolumns = pd.DataFrame(X1.columns)\n",
        "#concat two dataframes for better visualization \n",
        "featureScores = pd.concat([dfcolumns,dfscores],axis=1)\n",
        "featureScores.columns = ['Specs','Score']  #naming the dataframe columns\n",
        "print(featureScores.nlargest(20,'Score'))\n",
        "\n",
        "from sklearn.ensemble import ExtraTreesClassifier\n",
        "import matplotlib.pyplot as plt\n",
        "model = ExtraTreesClassifier()\n",
        "model.fit(X,y)\n",
        "print(model.feature_importances_) #use inbuilt class feature_importances of tree based classifiers\n",
        "#plot graph of feature importances for better visualization\n",
        "feat_importances = pd.Series(model.feature_importances_, index=X1.columns)\n",
        "feat_importances.nlargest(20).plot(kind='barh')\n",
        "plt.show()\n",
        "\n"
      ],
      "execution_count": null,
      "outputs": [
        {
          "output_type": "stream",
          "text": [
            "                Specs       Score\n",
            "72  Idle_Std           999.072858\n",
            "36  Pkt_Len_Min        621.143339\n",
            "5   Fwd_Pkt_Len_Min    538.810360\n",
            "48  ECE_Flag_Cnt       429.532402\n",
            "43  RST_Flag_Cnt       429.520092\n",
            "10  Bwd_Pkt_Len_Mean   394.957381\n",
            "52  Bwd_Seg_Size_Avg   394.957381\n",
            "38  Pkt Len Mean       259.133119\n",
            "6   Fwd_Pkt_Len_Mean   228.052205\n",
            "51  Fwd_Seg_Size_Avg   228.052205\n",
            "2   TotLen_Fwd_Pkts    214.579278\n",
            "60  Subflow_Fwd_Byts   214.579278\n",
            "50  Pkt_Size_Avg       186.492893\n",
            "40  Pkt Len Var        175.188506\n",
            "65  Fwd Act Data Pkts  172.469737\n",
            "18  Fwd_IAT_Tot        156.285503\n",
            "70  Active Min         114.697099\n",
            "15  Flow_IAT_Std       103.740298\n",
            "20  Fwd_IAT_Std        88.903471 \n",
            "39  Pkt Len Std        83.910271 \n",
            "[1.79130170e-02 6.00243463e-03 1.30362985e-02 1.26181758e-02\n",
            " 5.65176355e-03 3.31192593e-03 9.66998898e-03 6.17953671e-03\n",
            " 1.39353077e-02 6.89473548e-05 1.80576306e-02 8.35608544e-03\n",
            " 4.16325053e-03 2.26169560e-02 2.07641886e-02 2.42765847e-02\n",
            " 2.50944196e-02 2.55806346e-02 2.84131057e-02 1.92896466e-02\n",
            " 2.28668267e-02 2.63858640e-02 2.00839830e-02 6.97807262e-03\n",
            " 1.62898747e-03 3.16535068e-03 3.09334834e-03 1.64256609e-03\n",
            " 4.38480454e-05 0.00000000e+00 0.00000000e+00 0.00000000e+00\n",
            " 1.96851426e-02 6.85931629e-03 2.22147863e-02 5.28014907e-03\n",
            " 4.31924411e-03 1.61353739e-02 1.19786804e-02 1.23947329e-02\n",
            " 1.75730683e-02 5.29479291e-04 2.04394081e-04 3.00157172e-02\n",
            " 1.35455826e-04 9.66162457e-04 2.25299777e-03 0.00000000e+00\n",
            " 2.89962356e-02 2.30127251e-03 1.01699733e-02 6.76140926e-03\n",
            " 2.46713981e-02 0.00000000e+00 0.00000000e+00 0.00000000e+00\n",
            " 0.00000000e+00 0.00000000e+00 0.00000000e+00 1.93249946e-02\n",
            " 1.09464040e-02 7.16582998e-03 1.07987874e-02 2.16256177e-01\n",
            " 1.10860036e-02 1.86800642e-02 5.50036958e-04 1.22046763e-02\n",
            " 5.26450895e-04 1.12183902e-02 1.25964324e-02 1.51823482e-02\n",
            " 1.95306191e-02 1.67255304e-02 2.28735201e-02]\n"
          ],
          "name": "stdout"
        },
        {
          "output_type": "display_data",
          "data": {
            "image/png": "[encoded data removed]",
            "text/plain": [
              "<Figure size 432x288 with 1 Axes>"
            ]
          },
          "metadata": {
            "tags": [],
            "needs_background": "light"
          }
        }
      ]
    },
    {
      "cell_type": "code",
      "metadata": {
        "colab": {
          "base_uri": "https://localhost:8080/"
        },
        "id": "Byua9h8M_eUI",
        "outputId": "347ac9f2-1380-4f21-e328-9f2ca6ae2bac"
      },
      "source": [
        "\n",
        "number_of_labels = new_df.nunique() \n",
        "print(\"number_of_labels\",number_of_labels)\n",
        "# printing value \n",
        "print(\"number_of_labels\",number_of_labels)  #4\n",
        "print(new_df.unique()) #['Benign' 'Brute Force -Web' 'Brute Force -XSS' 'SQL Injection'] \n",
        "print((new_df=='Benign').sum()) #1048009\n",
        "print((new_df=='BruteForceWeb').sum())  #362\n",
        "print((new_df=='BruteForceXSS').sum())  #151\n",
        "print((new_df=='SQLInjection').sum())     #53\n",
        "\n",
        "columns = list(df) \n",
        "print(\"columns\",columns)\n",
        "arr_labels = new_df.to_numpy()\n",
        "print(\"arr_labels\",arr_labels)\n",
        "print(\"arr_labels\",len(arr_labels)) #arr 1048575\n",
        "print(\"arr_labels\",arr_labels.shape) #arr (1048575,)\n",
        "# Total missing values for each feature\n",
        "print (\"Total missing values for each feature\",df.isnull().sum())\n",
        "with open(\"missing.txt\",'w') as f:\n",
        "\tf.write(str(df.isnull().sum()))\n",
        "\n",
        "# Any missing values?\n",
        "print (\"Any missing values?\",df.isnull().values.any())\n",
        "\n",
        "# Total number of missing values\n",
        "print (\"Total number of missing values\",df.isnull().sum().sum())\n",
        "#df = df.reset_index()\n",
        "df.replace([np.inf, -np.inf], np.nan, inplace=True)\n"
      ],
      "execution_count": null,
      "outputs": [
        {
          "output_type": "stream",
          "text": [
            "number_of_labels 4\n",
            "number_of_labels 4\n",
            "['Benign' 'BruteForceWeb' 'BruteForceXSS' 'SQLInjection']\n",
            "1048009\n",
            "362\n",
            "151\n",
            "53\n",
            "columns ['Dst_Port', 'Protocol', 'Timestamp', 'Flow_Duration', 'Tot_Fwd_Pkts', 'Tot_Bwd_Pkts', 'TotLen_Fwd_Pkts', 'TotLen_Bwd_Pkts', 'Fwd Pkt Len Max', 'Fwd_Pkt_Len_Min', 'Fwd_Pkt_Len_Mean', 'Fwd Pkt Len Std', 'Bwd Pkt Len Max', 'Bwd Pkt Len Min', 'Bwd_Pkt_Len_Mean', 'Bwd Pkt Len Std', 'Flow_Byts_s', 'Flow_Pkts_s', 'Flow_IAT_Mean', 'Flow_IAT_Std', 'Flow_IAT_Max', 'Flow_IAT_Min', 'Fwd_IAT_Tot', 'Fwd_IAT_Mean', 'Fwd_IAT_Std', 'Fwd_IAT_Max', 'Fwd_IAT_Min', 'Bwd_IAT_Tot', 'Bwd_IAT_Mean', 'Bwd_IAT_Std', 'Bwd_IAT_Max', 'Bwd_IAT_Min', 'Fwd PSH Flags', 'Bwd PSH Flags', 'Fwd URG Flags', 'Bwd URG Flags', 'Fwd_Header_Len', 'Bwd Header Len', 'Fwd_Pkts_s', 'Bwd_Pkts_s', 'Pkt_Len_Min', 'Pkt Len Max', 'Pkt Len Mean', 'Pkt Len Std', 'Pkt Len Var', 'FIN Flag Cnt', 'SYN Flag Cnt', 'RST_Flag_Cnt', 'PSH_Flag_Cnt', 'ACK Flag Cnt', 'URG Flag Cnt', 'CWE Flag Count', 'ECE_Flag_Cnt', 'Down/Up Ratio', 'Pkt_Size_Avg', 'Fwd_Seg_Size_Avg', 'Bwd_Seg_Size_Avg', 'Fwd Byts/b Avg', 'Fwd Pkts/b Avg', 'Fwd Blk Rate Avg', 'Bwd Byts/b Avg', 'Bwd Pkts/b Avg', 'Bwd Blk Rate Avg', 'Subflow Fwd Pkts', 'Subflow_Fwd_Byts', 'Subflow Bwd Pkts', 'Subflow Bwd Byts', 'Init_Fwd_Win_Byts', 'Init_Bwd_Win_Byts', 'Fwd Act Data Pkts', 'Fwd_Seg_Size_Min', 'Active Mean', 'Active Std', 'Active Max', 'Active Min', 'Idle Mean', 'Idle_Std', 'Idle Max', 'Idle Min', 'Label']\n",
            "arr_labels ['Benign' 'Benign' 'Benign' ... 'Benign' 'Benign' 'Benign']\n",
            "arr_labels 1048575\n",
            "arr_labels (1048575,)\n",
            "Total missing values for each feature Dst_Port             0\n",
            "Protocol             0\n",
            "Timestamp            0\n",
            "Flow_Duration        0\n",
            "Tot_Fwd_Pkts         0\n",
            "Tot_Bwd_Pkts         0\n",
            "TotLen_Fwd_Pkts      0\n",
            "TotLen_Bwd_Pkts      0\n",
            "Fwd Pkt Len Max      0\n",
            "Fwd_Pkt_Len_Min      0\n",
            "Fwd_Pkt_Len_Mean     0\n",
            "Fwd Pkt Len Std      0\n",
            "Bwd Pkt Len Max      0\n",
            "Bwd Pkt Len Min      0\n",
            "Bwd_Pkt_Len_Mean     0\n",
            "Bwd Pkt Len Std      0\n",
            "Flow_Byts_s          0\n",
            "Flow_Pkts_s          0\n",
            "Flow_IAT_Mean        0\n",
            "Flow_IAT_Std         0\n",
            "Flow_IAT_Max         0\n",
            "Flow_IAT_Min         0\n",
            "Fwd_IAT_Tot          0\n",
            "Fwd_IAT_Mean         0\n",
            "Fwd_IAT_Std          0\n",
            "Fwd_IAT_Max          0\n",
            "Fwd_IAT_Min          0\n",
            "Bwd_IAT_Tot          0\n",
            "Bwd_IAT_Mean         0\n",
            "Bwd_IAT_Std          0\n",
            "Bwd_IAT_Max          0\n",
            "Bwd_IAT_Min          0\n",
            "Fwd PSH Flags        0\n",
            "Bwd PSH Flags        0\n",
            "Fwd URG Flags        0\n",
            "Bwd URG Flags        0\n",
            "Fwd_Header_Len       0\n",
            "Bwd Header Len       0\n",
            "Fwd_Pkts_s           0\n",
            "Bwd_Pkts_s           0\n",
            "Pkt_Len_Min          0\n",
            "Pkt Len Max          0\n",
            "Pkt Len Mean         0\n",
            "Pkt Len Std          0\n",
            "Pkt Len Var          0\n",
            "FIN Flag Cnt         0\n",
            "SYN Flag Cnt         0\n",
            "RST_Flag_Cnt         0\n",
            "PSH_Flag_Cnt         0\n",
            "ACK Flag Cnt         0\n",
            "URG Flag Cnt         0\n",
            "CWE Flag Count       0\n",
            "ECE_Flag_Cnt         0\n",
            "Down/Up Ratio        0\n",
            "Pkt_Size_Avg         0\n",
            "Fwd_Seg_Size_Avg     0\n",
            "Bwd_Seg_Size_Avg     0\n",
            "Fwd Byts/b Avg       0\n",
            "Fwd Pkts/b Avg       0\n",
            "Fwd Blk Rate Avg     0\n",
            "Bwd Byts/b Avg       0\n",
            "Bwd Pkts/b Avg       0\n",
            "Bwd Blk Rate Avg     0\n",
            "Subflow Fwd Pkts     0\n",
            "Subflow_Fwd_Byts     0\n",
            "Subflow Bwd Pkts     0\n",
            "Subflow Bwd Byts     0\n",
            "Init_Fwd_Win_Byts    0\n",
            "Init_Bwd_Win_Byts    0\n",
            "Fwd Act Data Pkts    0\n",
            "Fwd_Seg_Size_Min     0\n",
            "Active Mean          0\n",
            "Active Std           0\n",
            "Active Max           0\n",
            "Active Min           0\n",
            "Idle Mean            0\n",
            "Idle_Std             0\n",
            "Idle Max             0\n",
            "Idle Min             0\n",
            "Label                0\n",
            "dtype: int64\n",
            "Any missing values? False\n",
            "Total number of missing values 0\n"
          ],
          "name": "stdout"
        }
      ]
    },
    {
      "cell_type": "code",
      "metadata": {
        "colab": {
          "base_uri": "https://localhost:8080/"
        },
        "id": "hz20fPI5_0HK",
        "outputId": "3fd07344-0c3e-415d-c0bd-f364bf2f442f"
      },
      "source": [
        "Row_list =[] \n",
        "  \n",
        "# Iterate over each row \n",
        "for index, rows in tqdm(df.iterrows()): \n",
        "    # Create list for the current row \n",
        "    #my_list =[rows.Flow_IAT_Min,rows.Flow_Duration,rows.Bwd_Pkts_s,rows.Dst_Port] \n",
        "    my_list=[rows.Flow_Duration,rows.Bwd_Pkts_s, rows.Dst_Port, rows.Fwd_Seg_Size_Min, rows.Init_Fwd_Win_Byts, rows.Init_Bwd_Win_Byts, rows.Fwd_Pkts_s, rows.PSH_Flag_Cnt,rows.Tot_Fwd_Pkts,rows.Tot_Bwd_Pkts,rows.TotLen_Fwd_Pkts,rows.TotLen_Bwd_Pkts,rows.Flow_IAT_Mean,rows.Flow_IAT_Std,rows.Flow_IAT_Max,rows.Flow_IAT_Min,rows.Fwd_IAT_Tot,rows.Fwd_IAT_Mean,rows.Fwd_IAT_Std,rows.Fwd_IAT_Max,rows.Fwd_IAT_Min,  rows.Bwd_IAT_Tot,rows.Bwd_IAT_Mean,rows.Bwd_IAT_Std,rows.Bwd_IAT_Max,rows.Bwd_IAT_Min,rows.Fwd_Header_Len,rows.Pkt_Size_Avg,rows.Subflow_Fwd_Byts,rows.TotLen_Fwd_Pkts,rows.Fwd_Seg_Size_Avg,rows.Fwd_Pkt_Len_Mean,rows.Bwd_Seg_Size_Avg,rows.Bwd_Pkt_Len_Mean,rows.RST_Flag_Cnt,rows.ECE_Flag_Cnt,rows.Fwd_Pkt_Len_Min,rows.Pkt_Len_Min,rows.Idle_Std]\n",
        "\n",
        "\n",
        "      \n",
        "    # append the list to the final list \n",
        "    Row_list.append(my_list) \n",
        "  \n",
        "# Print the list \n",
        "#print(\"Row_list\",Row_list) \n",
        "print(\"Row_list\",len(Row_list)) #Row_list 1048575"
      ],
      "execution_count": null,
      "outputs": [
        {
          "output_type": "stream",
          "text": [
            "1048575it [05:56, 2942.86it/s]"
          ],
          "name": "stderr"
        },
        {
          "output_type": "stream",
          "text": [
            "Row_list 1048575\n"
          ],
          "name": "stdout"
        },
        {
          "output_type": "stream",
          "text": [
            "\n"
          ],
          "name": "stderr"
        }
      ]
    },
    {
      "cell_type": "code",
      "metadata": {
        "colab": {
          "base_uri": "https://localhost:8080/",
          "height": 1000
        },
        "id": "5vYZm94b_3wa",
        "outputId": "bde37779-b807-488c-d89e-729c447ed4c7"
      },
      "source": [
        "'''\n",
        "# Making a list of missing value types\n",
        "missing_values = [\"n/a\", \"na\", \"--\"]\n",
        "df = pd.read_csv(\"property data.csv\", na_values = missing_values)\n",
        "'''\n",
        "\n",
        "# Total missing values for each feature\n",
        "print (\"Total missing values for each feature\",df.isnull().sum())\n",
        "with open(\"missing.txt\",'w') as f:\n",
        "\tf.write(str(df.isnull().sum()))\n",
        "\n",
        "# Any missing values?\n",
        "print (\"Any missing values?\",df.isnull().values.any())\n",
        "\n",
        "# Total number of missing values\n",
        "print (\"Total number of missing values\",df.isnull().sum().sum())\n",
        "#sleep(100)\n",
        "\n",
        "\n",
        "\n",
        "\n",
        "#Row_list1=df.iloc[:, 'Flow_IAT_Min':'Flow_Duration']\n",
        "print(\"df.shape\",df.shape) #df.shape (1048575, 80)\n",
        "\n",
        "\n",
        "le = LabelEncoder()\n",
        "y1 = le.fit_transform(arr_labels)\n",
        "print(\"y1\",y1)\n",
        "\n",
        "y=to_categorical(y1,num_classes=4)\n",
        "print(y.shape)\n",
        "encoded1=np.array(Row_list)\n",
        "encoded=np.reshape(encoded1,(encoded1.shape[0],encoded1.shape[1],1))\n",
        "\n",
        "'''\n",
        "classTotals = y.sum(axis=0)\n",
        "print(\"classTotals\",classTotals) #classTotals [2688. 1315.]\n",
        "classWeight = classTotals.max() / classTotals\n",
        "print(\"classTotals max\",classTotals.max()) #classTotals max 2688.0\n",
        "print(\"classWeight\",classWeight) #classWeight [1.        2.0441065]\n",
        "#sleep(100)\n",
        "'''\n"
      ],
      "execution_count": null,
      "outputs": [
        {
          "output_type": "stream",
          "text": [
            "Total missing values for each feature Dst_Port             0\n",
            "Protocol             0\n",
            "Timestamp            0\n",
            "Flow_Duration        0\n",
            "Tot_Fwd_Pkts         0\n",
            "Tot_Bwd_Pkts         0\n",
            "TotLen_Fwd_Pkts      0\n",
            "TotLen_Bwd_Pkts      0\n",
            "Fwd Pkt Len Max      0\n",
            "Fwd_Pkt_Len_Min      0\n",
            "Fwd_Pkt_Len_Mean     0\n",
            "Fwd Pkt Len Std      0\n",
            "Bwd Pkt Len Max      0\n",
            "Bwd Pkt Len Min      0\n",
            "Bwd_Pkt_Len_Mean     0\n",
            "Bwd Pkt Len Std      0\n",
            "Flow_Byts_s          0\n",
            "Flow_Pkts_s          0\n",
            "Flow_IAT_Mean        0\n",
            "Flow_IAT_Std         0\n",
            "Flow_IAT_Max         0\n",
            "Flow_IAT_Min         0\n",
            "Fwd_IAT_Tot          0\n",
            "Fwd_IAT_Mean         0\n",
            "Fwd_IAT_Std          0\n",
            "Fwd_IAT_Max          0\n",
            "Fwd_IAT_Min          0\n",
            "Bwd_IAT_Tot          0\n",
            "Bwd_IAT_Mean         0\n",
            "Bwd_IAT_Std          0\n",
            "Bwd_IAT_Max          0\n",
            "Bwd_IAT_Min          0\n",
            "Fwd PSH Flags        0\n",
            "Bwd PSH Flags        0\n",
            "Fwd URG Flags        0\n",
            "Bwd URG Flags        0\n",
            "Fwd_Header_Len       0\n",
            "Bwd Header Len       0\n",
            "Fwd_Pkts_s           0\n",
            "Bwd_Pkts_s           0\n",
            "Pkt_Len_Min          0\n",
            "Pkt Len Max          0\n",
            "Pkt Len Mean         0\n",
            "Pkt Len Std          0\n",
            "Pkt Len Var          0\n",
            "FIN Flag Cnt         0\n",
            "SYN Flag Cnt         0\n",
            "RST_Flag_Cnt         0\n",
            "PSH_Flag_Cnt         0\n",
            "ACK Flag Cnt         0\n",
            "URG Flag Cnt         0\n",
            "CWE Flag Count       0\n",
            "ECE_Flag_Cnt         0\n",
            "Down/Up Ratio        0\n",
            "Pkt_Size_Avg         0\n",
            "Fwd_Seg_Size_Avg     0\n",
            "Bwd_Seg_Size_Avg     0\n",
            "Fwd Byts/b Avg       0\n",
            "Fwd Pkts/b Avg       0\n",
            "Fwd Blk Rate Avg     0\n",
            "Bwd Byts/b Avg       0\n",
            "Bwd Pkts/b Avg       0\n",
            "Bwd Blk Rate Avg     0\n",
            "Subflow Fwd Pkts     0\n",
            "Subflow_Fwd_Byts     0\n",
            "Subflow Bwd Pkts     0\n",
            "Subflow Bwd Byts     0\n",
            "Init_Fwd_Win_Byts    0\n",
            "Init_Bwd_Win_Byts    0\n",
            "Fwd Act Data Pkts    0\n",
            "Fwd_Seg_Size_Min     0\n",
            "Active Mean          0\n",
            "Active Std           0\n",
            "Active Max           0\n",
            "Active Min           0\n",
            "Idle Mean            0\n",
            "Idle_Std             0\n",
            "Idle Max             0\n",
            "Idle Min             0\n",
            "Label                0\n",
            "dtype: int64\n",
            "Any missing values? False\n",
            "Total number of missing values 0\n",
            "df.shape (1048575, 80)\n",
            "y1 [0 0 0 ... 0 0 0]\n",
            "(1048575, 4)\n"
          ],
          "name": "stdout"
        },
        {
          "output_type": "execute_result",
          "data": {
            "application/vnd.google.colaboratory.intrinsic+json": {
              "type": "string"
            },
            "text/plain": [
              "'\\nclassTotals = y.sum(axis=0)\\nprint(\"classTotals\",classTotals) #classTotals [2688. 1315.]\\nclassWeight = classTotals.max() / classTotals\\nprint(\"classTotals max\",classTotals.max()) #classTotals max 2688.0\\nprint(\"classWeight\",classWeight) #classWeight [1.        2.0441065]\\n#sleep(100)\\n'"
            ]
          },
          "metadata": {
            "tags": []
          },
          "execution_count": 9
        }
      ]
    },
    {
      "cell_type": "code",
      "metadata": {
        "colab": {
          "base_uri": "https://localhost:8080/",
          "height": 323
        },
        "id": "Tm6kv4FWAYRm",
        "outputId": "a9af0b29-f05f-4e82-9ae6-3cddcf7d999c"
      },
      "source": [
        "\n",
        "# scatter plot of dataset, different color for each class\n",
        "def plot_dataset(X, y):\n",
        "\t# create scatter plot for samples from each class\n",
        "\tn_classes = len(unique(y))\n",
        "\tprint(\"n_classes\",n_classes)\n",
        "\tprint(\"y\",y)\n",
        "\tfor class_value in range(n_classes):\n",
        "\t\t# get row indexes for samples with this class\n",
        "\t\trow_ix = where(y == class_value)[0]\n",
        "\t\t#print(\"row_ix\",row_ix)\n",
        "\t\t# create scatter of these samples\n",
        "\t\tpyplot.scatter(X[row_ix, 0], X[row_ix, 1], label=str(class_value))\n",
        "\t# show a legend\n",
        "\tpyplot.legend()\n",
        "\t# show the plot\n",
        "\tpyplot.show()\n",
        "\n",
        "plot_dataset(encoded1, y1)\n",
        "\n"
      ],
      "execution_count": null,
      "outputs": [
        {
          "output_type": "stream",
          "text": [
            "n_classes 4\n",
            "y [0 0 0 ... 0 0 0]\n"
          ],
          "name": "stdout"
        },
        {
          "output_type": "display_data",
          "data": {
            "image/png": "[encoded data removed]",
            "text/plain": [
              "<Figure size 432x288 with 1 Axes>"
            ]
          },
          "metadata": {
            "tags": [],
            "needs_background": "light"
          }
        }
      ]
    },
    {
      "cell_type": "code",
      "metadata": {
        "colab": {
          "base_uri": "https://localhost:8080/",
          "height": 436
        },
        "id": "LKjeI3lSAcWR",
        "outputId": "06aa8257-6b17-448d-bae8-4de9fc52a682"
      },
      "source": [
        "#X_features = encoded1\n",
        "print(\"encoded1\",encoded1.shape)\n",
        "\n",
        "X_features = encoded1\n",
        "print(\"X_features\",X_features.shape)\n",
        "# Visualize\n",
        "pca = PCA()\n",
        "pca.fit_transform(X_features)\n",
        "pca_variance = pca.explained_variance_\n",
        "\n",
        "plt.figure(figsize=(8, 6))\n",
        "plt.bar(range(X_features.shape[1]), pca_variance, alpha=0.5, align='center', label='individual PCA variance after feature selection')\n",
        "plt.legend()\n",
        "plt.ylabel('Variance ratio')\n",
        "plt.xlabel('Principal components')\n",
        "plt.show()"
      ],
      "execution_count": null,
      "outputs": [
        {
          "output_type": "stream",
          "text": [
            "encoded1 (1048575, 39)\n",
            "X_features (1048575, 39)\n"
          ],
          "name": "stdout"
        },
        {
          "output_type": "display_data",
          "data": {
            "image/png": "[encoded data removed]",
            "text/plain": [
              "<Figure size 576x432 with 1 Axes>"
            ]
          },
          "metadata": {
            "tags": [],
            "needs_background": "light"
          }
        }
      ]
    },
    {
      "cell_type": "code",
      "metadata": {
        "colab": {
          "base_uri": "https://localhost:8080/",
          "height": 408
        },
        "id": "qTOn6sP_Ai7t",
        "outputId": "718e36b8-b5bb-4076-e474-1fb804fdd59a"
      },
      "source": [
        "pca2 = PCA(n_components=2)\n",
        "pca2.fit(X_features)\n",
        "x_3d = pca2.transform(encoded1)\n",
        "\n",
        "plt.figure(figsize=(8,6))\n",
        "plt.scatter(x_3d[:,0], x_3d[:,1], c=df['Label'])\n",
        "plt.title(\"PCA PLOTTING FOR IMBALANCED DATA\")\n",
        "plt.xlabel(\"PC1\")\n",
        "plt.ylabel(\"PC2\")\n",
        "cbar= plt.colorbar()\n",
        "cbar.set_label(\"pca1 vs pca2 (m)\", labelpad=+1)\n",
        "plt.show()"
      ],
      "execution_count": null,
      "outputs": [
        {
          "output_type": "display_data",
          "data": {
            "image/png": "[encoded data removed]",
            "text/plain": [
              "<Figure size 576x432 with 2 Axes>"
            ]
          },
          "metadata": {
            "tags": [],
            "needs_background": "light"
          }
        }
      ]
    },
    {
      "cell_type": "code",
      "metadata": {
        "colab": {
          "base_uri": "https://localhost:8080/"
        },
        "id": "dbHSIxznAn7X",
        "outputId": "d56aa5c6-11ac-40a4-81cd-13afae6de348"
      },
      "source": [
        "# Split the data\n",
        "X_train, X_test, Y_TRAIN, Y_TEST = train_test_split(encoded1, y1, test_size=0.50, shuffle= True)\n",
        "Y_TRAIN1=to_categorical(Y_TRAIN,num_classes=4)\n",
        "Y_TEST1=to_categorical(Y_TEST,num_classes=4)\n",
        "\n",
        
        "from keras.layers import Input, Dense\n",
        "from keras.models import Model\n",
        "import numpy as np\n",
        "import pandas as pd\n",
        "import matplotlib.pyplot as plt\n",
        "from keras import backend as K\n",
        "\n",
        "print(X_train.shape)\n",
        "print(X_test.shape)"
      ],
      "execution_count": null,
      "outputs": [
        {
          "output_type": "stream",
          "text": [
            "(524287, 39)\n",
            "(524288, 39)\n"
          ],
          "name": "stdout"
        }
      ]
    },
    {
      "cell_type": "code",
      "metadata": {
        "id": "UhAna2GmAzQx"
      },
      "source": [
        "input_img= Input(shape=(39,))\n",
        "'''\n",
        "encoded = Dense(units=39)(input_img)\n",
        "encoded = Dense(units=100)(encoded)\n",
        "encoded = Dense(units=50)(encoded)\n",
        "encoded = Dense(units=25)(encoded)\n",
        "encoded = Dense(units=12)(encoded)\n",
        "encoded = Dense(units=6)(encoded)\n",
        "\n",
        "decoded = Dense(units=12)(encoded)\n",
        "decoded = Dense(units=25)(decoded)\n",
        "decoded = Dense(units=50)(decoded)\n",
        "decoded = Dense(units=100)(decoded)\n",
        "#decoded = Dense(units=200, activation='relu')(decoded)\n",
        "decoded = Dense(units=39, activation='softmax')(decoded) #rmsprop\n",
        "\n",
        "'''\n",
        "encoded = Dense(units=39, activation='relu')(input_img)\n",
        "encoded = Dense(units=50, activation='relu')(encoded)\n",
        "encoded = Dense(units=25, activation='relu')(encoded)\n",
        "encoded = Dense(units=12, activation='relu')(encoded)\n",
        "encoded = Dense(units=6, activation='relu')(encoded)\n",
        "\n",
        "\n",
        "decoded = Dense(units=12, activation='relu')(encoded)\n",
        "decoded = Dense(units=25, activation='relu')(decoded)\n",
        "decoded = Dense(units=50, activation='relu')(decoded)\n",
        "decoded = Dense(units=39, activation='softmax')(decoded)\n"
      ],
      "execution_count": null,
      "outputs": []
    },
    {
      "cell_type": "code",
      "metadata": {
        "colab": {
          "base_uri": "https://localhost:8080/"
        },
        "id": "RjJpTkQqA4Ve",
        "outputId": "b0704edf-1503-4585-a431-9a94d5985a2c"
      },
      "source": [
        "autoencoder=Model(input_img, decoded)\n",
        "autoencoder.summary()"
      ],
      "execution_count": null,
      "outputs": [
        {
          "output_type": "stream",
          "text": [
            "Model: \"model\"\n",
            "_________________________________________________________________\n",
            "Layer (type)                 Output Shape              Param #   \n",
            "=================================================================\n",
            "input_1 (InputLayer)         [(None, 39)]              0         \n",
            "_________________________________________________________________\n",
            "dense (Dense)                (None, 39)                1560      \n",
            "_________________________________________________________________\n",
            "dense_1 (Dense)              (None, 50)                2000      \n",
            "_________________________________________________________________\n",
            "dense_2 (Dense)              (None, 25)                1275      \n",
            "_________________________________________________________________\n",
            "dense_3 (Dense)              (None, 12)                312       \n",
            "_________________________________________________________________\n",
            "dense_4 (Dense)              (None, 6)                 78        \n",
            "_________________________________________________________________\n",
            "dense_5 (Dense)              (None, 12)                84        \n",
            "_________________________________________________________________\n",
            "dense_6 (Dense)              (None, 25)                325       \n",
            "_________________________________________________________________\n",
            "dense_7 (Dense)              (None, 50)                1300      \n",
            "_________________________________________________________________\n",
            "dense_8 (Dense)              (None, 39)                1989      \n",
            "=================================================================\n",
            "Total params: 8,923\n",
            "Trainable params: 8,923\n",
            "Non-trainable params: 0\n",
            "_________________________________________________________________\n"
          ],
          "name": "stdout"
        }
      ]
    },
    {
      "cell_type": "code",
      "metadata": {
        "colab": {
          "base_uri": "https://localhost:8080/"
        },
        "id": "LveUqbrYBEf4",
        "outputId": "e5a69e09-1435-4ac3-dd4e-95b92b3a7d15"
      },
      "source": [
        "encoder = Model(input_img, encoded)\n",
        "encoder.summary()"
      ],
      "execution_count": null,
      "outputs": [
        {
          "output_type": "stream",
          "text": [
            "Model: \"model_1\"\n",
            "_________________________________________________________________\n",
            "Layer (type)                 Output Shape              Param #   \n",
            "=================================================================\n",
            "input_1 (InputLayer)         [(None, 39)]              0         \n",
            "_________________________________________________________________\n",
            "dense (Dense)                (None, 39)                1560      \n",
            "_________________________________________________________________\n",
            "dense_1 (Dense)              (None, 50)                2000      \n",
            "_________________________________________________________________\n",
            "dense_2 (Dense)              (None, 25)                1275      \n",
            "_________________________________________________________________\n",
            "dense_3 (Dense)              (None, 12)                312       \n",
            "_________________________________________________________________\n",
            "dense_4 (Dense)              (None, 6)                 78        \n",
            "=================================================================\n",
            "Total params: 5,225\n",
            "Trainable params: 5,225\n",
            "Non-trainable params: 0\n",
            "_________________________________________________________________\n"
          ],
          "name": "stdout"
        }
      ]
    },
    {
      "cell_type": "code",
      "metadata": {
        "colab": {
          "base_uri": "https://localhost:8080/"
        },
        "id": "U0yZZOjABM1T",
        "outputId": "6c2ca9d7-15e4-4b5d-edf6-4a8fed60139c"
      },
      "source": [
        "autoencoder.compile(optimizer='rmsprop', loss='mse', metrics=['accuracy'])\n",
        "#We finally train the autoencoder using the training data with 50 epochs and batch size of 256.\n",
        "autoencoder.fit(X_train, X_train,\n",
        "                epochs=5,\n",
        "                batch_size=64,\n",
        "                shuffle=True,\n",
        "                validation_data=(X_test, X_test))\n",
        "encoder = Model(input_img, encoded)\n",
        "encoder.compile(optimizer='adam', loss='categorical_crossentropy', metrics=['accuracy'])\n",
        "#We finally train the autoencoder using the training data with 50 epochs and batch size of 256.\n",
        "pre_test=encoder.predict(X_test)\n",
        "print(pre_test.shape)\n",
        "pre_test=np.reshape(pre_test,(pre_test.shape[0],pre_test.shape[1],1))\n",
        "print(pre_test.shape)\n",
        "\n",
        "pre_train=encoder.predict(X_train)\n",
        "print(pre_train.shape)\n",
        "pre_train=np.reshape(pre_train,(pre_train.shape[0],pre_train.shape[1],1))\n",
        "print(pre_train.shape)\n"
      ],
      "execution_count": null,
      "outputs": [
        {
          "output_type": "stream",
          "text": [
            "Epoch 1/5\n",
            "8192/8192 [==============================] - 41s 5ms/step - loss: 223630345874786.5938 - accuracy: 0.0851 - val_loss: 222171477573632.0000 - val_accuracy: 0.1172\n",
            "Epoch 2/5\n",
            "8192/8192 [==============================] - 38s 5ms/step - loss: 222951617798183.0000 - accuracy: 0.1166 - val_loss: 222171477573632.0000 - val_accuracy: 0.1187\n",
            "Epoch 3/5\n",
            "8192/8192 [==============================] - 37s 5ms/step - loss: 223178699609883.2812 - accuracy: 0.1166 - val_loss: 222171477573632.0000 - val_accuracy: 0.1184\n",
            "Epoch 4/5\n",
            "8192/8192 [==============================] - 38s 5ms/step - loss: 224600008778260.9375 - accuracy: 0.1166 - val_loss: 222171477573632.0000 - val_accuracy: 0.1162\n",
            "Epoch 5/5\n",
            "8192/8192 [==============================] - 37s 5ms/step - loss: 224102582804804.9688 - accuracy: 0.1162 - val_loss: 222171477573632.0000 - val_accuracy: 0.1185\n",
            "(524288, 6)\n",
            "(524288, 6, 1)\n",
            "(524287, 6)\n",
            "(524287, 6, 1)\n"
          ],
          "name": "stdout"
        }
      ]
    },
    {
      "cell_type": "code",
      "metadata": {
        "id": "M6rFSfZgBRcS"
      },
      "source": [
        "\n",
        "model = Sequential()\n",
        "model.add(LSTM(128,input_shape=(pre_train.shape[1],pre_train.shape[2]),return_sequences=True))\n",
        "#model.add(Bidirectional(LSTM(128,input_shape=(pre_train.shape[1],pre_train.shape[2]),return_sequences=True)))\n",
        "model.add(Bidirectional(LSTM(64,return_sequences=True)))\n",
        "model.add(Dropout(0.25))\n",
        "model.add(Bidirectional(LSTM(64)))\n",
        "model.add(Dropout(0.20))\n",
        "model.add(Dense(4, activation='softmax'))\n"
      ],
      "execution_count": null,
      "outputs": []
    },
    {
      "cell_type": "code",
      "metadata": {
        "colab": {
          "base_uri": "https://localhost:8080/"
        },
        "id": "LSVgBNg9BStM",
        "outputId": "fef7affc-24f9-4bf2-867f-221c75aebd40"
      },
      "source": [
        "# compile network\n",
        "model.compile(loss='categorical_crossentropy', optimizer='adam', metrics=['accuracy'])\n",
        "#print(model.summary())\n",
        "# fit network\n",
        "checkpoint = ModelCheckpoint(\"check.h5\", monitor='loss', verbose=1, save_best_only=True, mode='min')\n",
        "#callbacks_list = [checkpoint,earlystopping] #\n",
        "model.fit(pre_train, Y_TRAIN1,batch_size=64, shuffle=True,epochs=1, verbose=1,validation_data=(pre_test,Y_TEST1))\n",
        "#model.save(\"BILSTM.h5\")\n",
        "\n",
        "yhat_classes = model.predict_classes(pre_test, verbose=1)\n",
        "\n",
        "from sklearn.metrics import classification_report, confusion_matrix\n",
        "import itertools    \n",
        "print(\" \") \n",
        "print(\"START OF CONFUSION CALCULATION\") \n",
        "print('Confusion Matrix Calculation')\n",
        "cm=confusion_matrix(Y_TEST, yhat_classes)\n",
        "print(\"Confusion Matrix\",cm)\n"
      ],
      "execution_count": null,
      "outputs": [
        {
          "output_type": "stream",
          "text": [
            "8192/8192 [==============================] - 147s 14ms/step - loss: 0.0100 - accuracy: 0.9983 - val_loss: 0.0046 - val_accuracy: 0.9995\n",
            "16384/16384 [==============================] - 62s 4ms/step\n",
            " \n",
            "START OF CONFUSION CALCULATION\n",
            "Confusion Matrix Calculation\n",
            "Confusion Matrix [[523989      2      0      0]\n",
            " [   170     17      0      0]\n",
            " [    74      6      0      0]\n",
            " [    23      7      0      0]]\n"
          ],
          "name": "stdout"
        }
      ]
    },
    {
      "cell_type": "code",
      "metadata": {
        "colab": {
          "base_uri": "https://localhost:8080/",
          "height": 433
        },
        "id": "-cqfJT2XBaJU",
        "outputId": "cd261222-5ea1-4a78-fbf6-a06e6cf1f963"
      },
      "source": [
        "def plot_confusion_matrix(cm, classes,\n",
        "                        normalize=False,\n",
        "                        title='Confusion matrix',\n",
        "                        cmap=plt.cm.Blues):\n",
        "    \"\"\"\n",
        "    This function prints and plots the confusion matrix.\n",
        "    Normalization can be applied by setting `normalize=True`.\n",
        "    \"\"\"\n",
        "    plt.imshow(cm, interpolation='nearest', cmap=cmap)\n",
        "    plt.title(title)\n",
        "    plt.colorbar()\n",
        "    tick_marks = np.arange(len(classes))\n",
        "    plt.xticks(tick_marks, classes, rotation=45)\n",
        "    plt.yticks(tick_marks, classes)\n",
        "\n",
        "    if normalize:\n",
        "        cm = cm.astype('float') / cm.sum(axis=1)[:, np.newaxis]\n",
        "        print(\"Normalized confusion matrix\")\n",
        "    else:\n",
        "        print('Confusion matrix, without normalization')\n",
        "\n",
        "    print(cm)\n",
        "\n",
        "    thresh = cm.max() / 2.\n",
        "    for i, j in itertools.product(range(cm.shape[0]), range(cm.shape[1])):\n",
        "        plt.text(j, i, cm[i, j],\n",
        "            horizontalalignment=\"center\",\n",
        "            color=\"white\" if cm[i, j] > thresh else \"black\")\n",
        "\n",
        "    plt.tight_layout()\n",
        "    plt.ylabel('True label')\n",
        "    plt.xlabel('Predicted label')\n",
        "    plt.show()\n",
        "cm_plot_labels = ['BruteForceWeb','BruteForceXSS','SQLInjection','Benign']\n",
        "plot_confusion_matrix(cm=cm, classes=cm_plot_labels, title='Confusion Matrix')\n",
        "print(\"END OF CONFUSION CALCULATION\") \n",
        "print(\" \") \n"
      ],
      "execution_count": null,
      "outputs": [
        {
          "output_type": "stream",
          "text": [
            "Confusion matrix, without normalization\n",
            "[[523989      2      0      0]\n",
            " [   170     17      0      0]\n",
            " [    74      6      0      0]\n",
            " [    23      7      0      0]]\n"
          ],
          "name": "stdout"
        },
        {
          "output_type": "display_data",
          "data": {
            "image/png": "[encoded data removed]",
            "text/plain": [
              "<Figure size 432x288 with 2 Axes>"
            ]
          },
          "metadata": {
            "tags": [],
            "needs_background": "light"
          }
        },
        {
          "output_type": "stream",
          "text": [
            "END OF CONFUSION CALCULATION\n",
            " \n"
          ],
          "name": "stdout"
        }
      ]
    },
    {
      "cell_type": "code",
      "metadata": {
        "colab": {
          "base_uri": "https://localhost:8080/"
        },
        "id": "tZQtx5c8BwDX",
        "outputId": "bb5d6383-2e8b-40a0-b015-868311b6883b"
      },
      "source": [
        "# reduce to 1d array\n",
        "#yhat_probs = yhat_probs[:, 0]\n",
        "#yhat_classes = yhat_classes[:, 0]\n",
        "\n",
        "# accuracy: (tp + tn) / (p + n)\n",
        "accuracy = accuracy_score(Y_TEST, yhat_classes)\n",
        "print('Testing Accuracy: %f' % accuracy)\n",
        "# precision tp / (tp + fp)\n",
        "precision = precision_score(Y_TEST, yhat_classes,average='weighted')\n",
        "print('Testing Precision: %f' % precision)\n",
        "# recall: tp / (tp + fn)\n",
        "recall = recall_score(Y_TEST, yhat_classes,average='weighted')\n",
        "print('Testing Recall: %f' % recall)\n",
        "# f1: 2 tp / (2 tp + fp + fn)\n",
        "f1 = f1_score(Y_TEST, yhat_classes,average='weighted')\n",
        "print('Testing F1 score: %f' % f1)\n"
      ],
      "execution_count": null,
      "outputs": [
        {
          "output_type": "stream",
          "text": [
            "Testing Accuracy: 0.999462\n",
            "Testing Precision: 0.999114\n",
            "Testing Recall: 0.999462\n",
            "Testing F1 score: 0.999232\n"
          ],
          "name": "stdout"
        }
      ]
    },
    {
      "cell_type": "code",
      "metadata": {
        "id": "C7J9lmHpCuJp"
      },
      "source": [
        ""
      ],
      "execution_count": null,
      "outputs": []
    }
  ]
}
